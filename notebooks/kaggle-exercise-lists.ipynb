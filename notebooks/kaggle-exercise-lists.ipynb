{
 "cells": [
  {
   "cell_type": "markdown",
   "id": "dedde39e",
   "metadata": {
    "papermill": {
     "duration": 0.005539,
     "end_time": "2023-01-29T22:18:38.079842",
     "exception": false,
     "start_time": "2023-01-29T22:18:38.074303",
     "status": "completed"
    },
    "tags": []
   },
   "source": [
    "**This notebook is an exercise in the [Python](https://www.kaggle.com/learn/python) course.  You can reference the tutorial at [this link](https://www.kaggle.com/colinmorris/lists).**\n",
    "\n",
    "---\n"
   ]
  },
  {
   "cell_type": "markdown",
   "id": "9e9de263",
   "metadata": {
    "papermill": {
     "duration": 0.0045,
     "end_time": "2023-01-29T22:18:38.089001",
     "exception": false,
     "start_time": "2023-01-29T22:18:38.084501",
     "status": "completed"
    },
    "tags": []
   },
   "source": [
    "Things get more interesting with lists. You'll apply your new knowledge to solve the questions below. Remember to run the following cell first."
   ]
  },
  {
   "cell_type": "code",
   "execution_count": 1,
   "id": "050a463c",
   "metadata": {
    "execution": {
     "iopub.execute_input": "2023-01-29T22:18:38.099699Z",
     "iopub.status.busy": "2023-01-29T22:18:38.099216Z",
     "iopub.status.idle": "2023-01-29T22:18:38.146008Z",
     "shell.execute_reply": "2023-01-29T22:18:38.144707Z"
    },
    "papermill": {
     "duration": 0.055906,
     "end_time": "2023-01-29T22:18:38.149362",
     "exception": false,
     "start_time": "2023-01-29T22:18:38.093456",
     "status": "completed"
    },
    "tags": []
   },
   "outputs": [
    {
     "name": "stdout",
     "output_type": "stream",
     "text": [
      "Setup complete.\n"
     ]
    }
   ],
   "source": [
    "from learntools.core import binder; binder.bind(globals())\n",
    "from learntools.python.ex4 import *\n",
    "print('Setup complete.')"
   ]
  },
  {
   "cell_type": "markdown",
   "id": "488beb5e",
   "metadata": {
    "papermill": {
     "duration": 0.004398,
     "end_time": "2023-01-29T22:18:38.158776",
     "exception": false,
     "start_time": "2023-01-29T22:18:38.154378",
     "status": "completed"
    },
    "tags": []
   },
   "source": [
    "# 1.\n",
    "\n",
    "Complete the function below according to its docstring."
   ]
  },
  {
   "cell_type": "code",
   "execution_count": 2,
   "id": "31170d83",
   "metadata": {
    "execution": {
     "iopub.execute_input": "2023-01-29T22:18:38.170208Z",
     "iopub.status.busy": "2023-01-29T22:18:38.169785Z",
     "iopub.status.idle": "2023-01-29T22:18:38.180800Z",
     "shell.execute_reply": "2023-01-29T22:18:38.179720Z"
    },
    "papermill": {
     "duration": 0.019179,
     "end_time": "2023-01-29T22:18:38.182908",
     "exception": false,
     "start_time": "2023-01-29T22:18:38.163729",
     "status": "completed"
    },
    "tags": []
   },
   "outputs": [
    {
     "data": {
      "application/javascript": [
       "parent.postMessage({\"jupyterEvent\": \"custom.exercise_interaction\", \"data\": {\"outcomeType\": 4, \"interactionType\": 1, \"questionType\": 2, \"questionId\": \"1_SelectSecondItem\", \"learnToolsVersion\": \"0.3.4\", \"valueTowardsCompletion\": 0.0, \"failureMessage\": \"\", \"exceptionClass\": \"\", \"trace\": \"\"}}, \"*\")"
      ],
      "text/plain": [
       "<IPython.core.display.Javascript object>"
      ]
     },
     "metadata": {},
     "output_type": "display_data"
    },
    {
     "data": {
      "text/markdown": [
       "<span style=\"color:#ccaa33\">Check:</span> When you've updated the starter code, `check()` will tell you whether your code is correct. "
      ],
      "text/plain": [
       "Check: When you've updated the starter code, `check()` will tell you whether your code is correct. "
      ]
     },
     "metadata": {},
     "output_type": "display_data"
    }
   ],
   "source": [
    "def select_second(L):\n",
    "    \"\"\"Return the second element of the given list. If the list has no second\n",
    "    element, return None.\n",
    "    \"\"\"\n",
    "    pass\n",
    "\n",
    "# Check your answer\n",
    "q1.check()"
   ]
  },
  {
   "cell_type": "code",
   "execution_count": 3,
   "id": "d505e505",
   "metadata": {
    "collapsed": true,
    "execution": {
     "iopub.execute_input": "2023-01-29T22:18:38.195036Z",
     "iopub.status.busy": "2023-01-29T22:18:38.194620Z",
     "iopub.status.idle": "2023-01-29T22:18:38.199119Z",
     "shell.execute_reply": "2023-01-29T22:18:38.197861Z"
    },
    "jupyter": {
     "outputs_hidden": true
    },
    "papermill": {
     "duration": 0.01341,
     "end_time": "2023-01-29T22:18:38.201367",
     "exception": false,
     "start_time": "2023-01-29T22:18:38.187957",
     "status": "completed"
    },
    "tags": []
   },
   "outputs": [],
   "source": [
    "#q1.hint()\n",
    "#q1.solution()"
   ]
  },
  {
   "cell_type": "markdown",
   "id": "3ec9b9e3",
   "metadata": {
    "papermill": {
     "duration": 0.004704,
     "end_time": "2023-01-29T22:18:38.211087",
     "exception": false,
     "start_time": "2023-01-29T22:18:38.206383",
     "status": "completed"
    },
    "tags": []
   },
   "source": [
    "# 2.\n",
    "\n",
    "You are analyzing sports teams.  Members of each team are stored in a list. The Coach is the first name in the list, the captain is the second name in the list, and other players are listed after that. \n",
    "These lists are stored in another list, which starts with the best team and proceeds through the list to the worst team last.  Complete the function below to select the **captain** of the worst team."
   ]
  },
  {
   "cell_type": "code",
   "execution_count": 4,
   "id": "6a8a48b1",
   "metadata": {
    "execution": {
     "iopub.execute_input": "2023-01-29T22:18:38.223378Z",
     "iopub.status.busy": "2023-01-29T22:18:38.222941Z",
     "iopub.status.idle": "2023-01-29T22:18:38.232205Z",
     "shell.execute_reply": "2023-01-29T22:18:38.231111Z"
    },
    "papermill": {
     "duration": 0.01836,
     "end_time": "2023-01-29T22:18:38.234456",
     "exception": false,
     "start_time": "2023-01-29T22:18:38.216096",
     "status": "completed"
    },
    "tags": []
   },
   "outputs": [
    {
     "data": {
      "application/javascript": [
       "parent.postMessage({\"jupyterEvent\": \"custom.exercise_interaction\", \"data\": {\"outcomeType\": 4, \"interactionType\": 1, \"questionType\": 2, \"questionId\": \"2_LosingTeamCaptain\", \"learnToolsVersion\": \"0.3.4\", \"valueTowardsCompletion\": 0.0, \"failureMessage\": \"\", \"exceptionClass\": \"\", \"trace\": \"\"}}, \"*\")"
      ],
      "text/plain": [
       "<IPython.core.display.Javascript object>"
      ]
     },
     "metadata": {},
     "output_type": "display_data"
    },
    {
     "data": {
      "text/markdown": [
       "<span style=\"color:#ccaa33\">Check:</span> When you've updated the starter code, `check()` will tell you whether your code is correct. "
      ],
      "text/plain": [
       "Check: When you've updated the starter code, `check()` will tell you whether your code is correct. "
      ]
     },
     "metadata": {},
     "output_type": "display_data"
    }
   ],
   "source": [
    "def losing_team_captain(teams):\n",
    "    \"\"\"Given a list of teams, where each team is a list of names, return the 2nd player (captain)\n",
    "    from the last listed team\n",
    "    \"\"\"\n",
    "    pass\n",
    "\n",
    "# Check your answer\n",
    "q2.check()"
   ]
  },
  {
   "cell_type": "code",
   "execution_count": 5,
   "id": "cb445618",
   "metadata": {
    "collapsed": true,
    "execution": {
     "iopub.execute_input": "2023-01-29T22:18:38.246948Z",
     "iopub.status.busy": "2023-01-29T22:18:38.246524Z",
     "iopub.status.idle": "2023-01-29T22:18:38.251013Z",
     "shell.execute_reply": "2023-01-29T22:18:38.249762Z"
    },
    "jupyter": {
     "outputs_hidden": true
    },
    "papermill": {
     "duration": 0.013551,
     "end_time": "2023-01-29T22:18:38.253485",
     "exception": false,
     "start_time": "2023-01-29T22:18:38.239934",
     "status": "completed"
    },
    "tags": []
   },
   "outputs": [],
   "source": [
    "#q2.hint()\n",
    "#q2.solution()"
   ]
  },
  {
   "cell_type": "markdown",
   "id": "1dc4395a",
   "metadata": {
    "papermill": {
     "duration": 0.004944,
     "end_time": "2023-01-29T22:18:38.263896",
     "exception": false,
     "start_time": "2023-01-29T22:18:38.258952",
     "status": "completed"
    },
    "tags": []
   },
   "source": [
    "# 3.\n",
    "\n",
    "The next iteration of Mario Kart will feature an extra-infuriating new item, the *Purple Shell*. When used, it warps the last place racer into first place and the first place racer into last place. Complete the function below to implement the Purple Shell's effect."
   ]
  },
  {
   "cell_type": "code",
   "execution_count": 6,
   "id": "d3882c93",
   "metadata": {
    "execution": {
     "iopub.execute_input": "2023-01-29T22:18:38.276494Z",
     "iopub.status.busy": "2023-01-29T22:18:38.276102Z",
     "iopub.status.idle": "2023-01-29T22:18:38.285374Z",
     "shell.execute_reply": "2023-01-29T22:18:38.284306Z"
    },
    "papermill": {
     "duration": 0.018075,
     "end_time": "2023-01-29T22:18:38.287651",
     "exception": false,
     "start_time": "2023-01-29T22:18:38.269576",
     "status": "completed"
    },
    "tags": []
   },
   "outputs": [
    {
     "data": {
      "application/javascript": [
       "parent.postMessage({\"jupyterEvent\": \"custom.exercise_interaction\", \"data\": {\"outcomeType\": 4, \"interactionType\": 1, \"questionType\": 2, \"questionId\": \"3_PurpleShell\", \"learnToolsVersion\": \"0.3.4\", \"valueTowardsCompletion\": 0.0, \"failureMessage\": \"\", \"exceptionClass\": \"\", \"trace\": \"\"}}, \"*\")"
      ],
      "text/plain": [
       "<IPython.core.display.Javascript object>"
      ]
     },
     "metadata": {},
     "output_type": "display_data"
    },
    {
     "data": {
      "text/markdown": [
       "<span style=\"color:#ccaa33\">Check:</span> When you've updated the starter code, `check()` will tell you whether your code is correct. "
      ],
      "text/plain": [
       "Check: When you've updated the starter code, `check()` will tell you whether your code is correct. "
      ]
     },
     "metadata": {},
     "output_type": "display_data"
    }
   ],
   "source": [
    "def purple_shell(racers):\n",
    "    \"\"\"Given a list of racers, set the first place racer (at the front of the list) to last\n",
    "    place and vice versa.\n",
    "    \n",
    "    >>> r = [\"Mario\", \"Bowser\", \"Luigi\"]\n",
    "    >>> purple_shell(r)\n",
    "    >>> r\n",
    "    [\"Luigi\", \"Bowser\", \"Mario\"]\n",
    "    \"\"\"\n",
    "    pass\n",
    "\n",
    "# Check your answer\n",
    "q3.check()"
   ]
  },
  {
   "cell_type": "code",
   "execution_count": 7,
   "id": "bf1289f4",
   "metadata": {
    "collapsed": true,
    "execution": {
     "iopub.execute_input": "2023-01-29T22:18:38.300595Z",
     "iopub.status.busy": "2023-01-29T22:18:38.300145Z",
     "iopub.status.idle": "2023-01-29T22:18:38.304211Z",
     "shell.execute_reply": "2023-01-29T22:18:38.303192Z"
    },
    "jupyter": {
     "outputs_hidden": true
    },
    "papermill": {
     "duration": 0.013025,
     "end_time": "2023-01-29T22:18:38.306305",
     "exception": false,
     "start_time": "2023-01-29T22:18:38.293280",
     "status": "completed"
    },
    "tags": []
   },
   "outputs": [],
   "source": [
    "#q3.hint()\n",
    "#q3.solution()"
   ]
  },
  {
   "cell_type": "markdown",
   "id": "6355488e",
   "metadata": {
    "papermill": {
     "duration": 0.005289,
     "end_time": "2023-01-29T22:18:38.317078",
     "exception": false,
     "start_time": "2023-01-29T22:18:38.311789",
     "status": "completed"
    },
    "tags": []
   },
   "source": [
    "# 4.\n",
    "\n",
    "What are the lengths of the following lists? Fill in the variable `lengths` with your predictions. (Try to make a prediction for each list *without* just calling `len()` on it.)"
   ]
  },
  {
   "cell_type": "code",
   "execution_count": 8,
   "id": "00a0dc98",
   "metadata": {
    "execution": {
     "iopub.execute_input": "2023-01-29T22:18:38.330033Z",
     "iopub.status.busy": "2023-01-29T22:18:38.329631Z",
     "iopub.status.idle": "2023-01-29T22:18:38.339369Z",
     "shell.execute_reply": "2023-01-29T22:18:38.338115Z"
    },
    "papermill": {
     "duration": 0.018947,
     "end_time": "2023-01-29T22:18:38.341590",
     "exception": false,
     "start_time": "2023-01-29T22:18:38.322643",
     "status": "completed"
    },
    "tags": []
   },
   "outputs": [
    {
     "data": {
      "application/javascript": [
       "parent.postMessage({\"jupyterEvent\": \"custom.exercise_interaction\", \"data\": {\"outcomeType\": 4, \"interactionType\": 1, \"questionType\": 1, \"questionId\": \"4_UnderstandLen\", \"learnToolsVersion\": \"0.3.4\", \"valueTowardsCompletion\": 0.0, \"failureMessage\": \"\", \"exceptionClass\": \"\", \"trace\": \"\"}}, \"*\")"
      ],
      "text/plain": [
       "<IPython.core.display.Javascript object>"
      ]
     },
     "metadata": {},
     "output_type": "display_data"
    },
    {
     "data": {
      "text/markdown": [
       "<span style=\"color:#ccaa33\">Check:</span> When you've updated the starter code, `check()` will tell you whether your code is correct. You need to update the code that creates variable `lengths`"
      ],
      "text/plain": [
       "Check: When you've updated the starter code, `check()` will tell you whether your code is correct. You need to update the code that creates variable `lengths`"
      ]
     },
     "metadata": {},
     "output_type": "display_data"
    }
   ],
   "source": [
    "a = [1, 2, 3]\n",
    "b = [1, [2, 3]]\n",
    "c = []\n",
    "d = [1, 2, 3][1:]\n",
    "\n",
    "# Put your predictions in the list below. Lengths should contain 4 numbers, the\n",
    "# first being the length of a, the second being the length of b and so on.\n",
    "lengths = []\n",
    "\n",
    "# Check your answer\n",
    "q4.check()"
   ]
  },
  {
   "cell_type": "code",
   "execution_count": 9,
   "id": "9a18d165",
   "metadata": {
    "collapsed": true,
    "execution": {
     "iopub.execute_input": "2023-01-29T22:18:38.354800Z",
     "iopub.status.busy": "2023-01-29T22:18:38.354390Z",
     "iopub.status.idle": "2023-01-29T22:18:38.359024Z",
     "shell.execute_reply": "2023-01-29T22:18:38.357976Z"
    },
    "jupyter": {
     "outputs_hidden": true
    },
    "papermill": {
     "duration": 0.013786,
     "end_time": "2023-01-29T22:18:38.361262",
     "exception": false,
     "start_time": "2023-01-29T22:18:38.347476",
     "status": "completed"
    },
    "tags": []
   },
   "outputs": [],
   "source": [
    "# line below provides some explanation\n",
    "#q4.solution()"
   ]
  },
  {
   "cell_type": "markdown",
   "id": "a2e38e4c",
   "metadata": {
    "papermill": {
     "duration": 0.005681,
     "end_time": "2023-01-29T22:18:38.372944",
     "exception": false,
     "start_time": "2023-01-29T22:18:38.367263",
     "status": "completed"
    },
    "tags": []
   },
   "source": [
    "# 5. <span title=\"A bit spicy\" style=\"color: darkgreen \">🌶️</span>\n",
    "\n",
    "We're using lists to record people who attended our party and what order they arrived in. For example, the following list represents a party with 7 guests, in which Adela showed up first and Ford was the last to arrive:\n",
    "\n",
    "    party_attendees = ['Adela', 'Fleda', 'Owen', 'May', 'Mona', 'Gilbert', 'Ford']\n",
    "\n",
    "A guest is considered 'fashionably late' if they arrived after at least half of the party's guests. However, they must not be the very last guest (that's taking it too far). In the above example, Mona and Gilbert are the only guests who were fashionably late.\n",
    "\n",
    "Complete the function below which takes a list of party attendees as well as a person, and tells us whether that person is fashionably late."
   ]
  },
  {
   "cell_type": "code",
   "execution_count": 10,
   "id": "3079b0b7",
   "metadata": {
    "execution": {
     "iopub.execute_input": "2023-01-29T22:18:38.387381Z",
     "iopub.status.busy": "2023-01-29T22:18:38.386926Z",
     "iopub.status.idle": "2023-01-29T22:18:38.395807Z",
     "shell.execute_reply": "2023-01-29T22:18:38.394822Z"
    },
    "papermill": {
     "duration": 0.018618,
     "end_time": "2023-01-29T22:18:38.397898",
     "exception": false,
     "start_time": "2023-01-29T22:18:38.379280",
     "status": "completed"
    },
    "tags": []
   },
   "outputs": [
    {
     "data": {
      "application/javascript": [
       "parent.postMessage({\"jupyterEvent\": \"custom.exercise_interaction\", \"data\": {\"outcomeType\": 4, \"interactionType\": 1, \"questionType\": 2, \"questionId\": \"5_FashionablyLate\", \"learnToolsVersion\": \"0.3.4\", \"valueTowardsCompletion\": 0.0, \"failureMessage\": \"\", \"exceptionClass\": \"\", \"trace\": \"\"}}, \"*\")"
      ],
      "text/plain": [
       "<IPython.core.display.Javascript object>"
      ]
     },
     "metadata": {},
     "output_type": "display_data"
    },
    {
     "data": {
      "text/markdown": [
       "<span style=\"color:#ccaa33\">Check:</span> When you've updated the starter code, `check()` will tell you whether your code is correct. "
      ],
      "text/plain": [
       "Check: When you've updated the starter code, `check()` will tell you whether your code is correct. "
      ]
     },
     "metadata": {},
     "output_type": "display_data"
    }
   ],
   "source": [
    "def fashionably_late(arrivals, name):\n",
    "    \"\"\"Given an ordered list of arrivals to the party and a name, return whether the guest with that\n",
    "    name was fashionably late.\n",
    "    \"\"\"\n",
    "    pass\n",
    "\n",
    "# Check your answer\n",
    "q5.check()"
   ]
  },
  {
   "cell_type": "code",
   "execution_count": 11,
   "id": "d4558aaf",
   "metadata": {
    "collapsed": true,
    "execution": {
     "iopub.execute_input": "2023-01-29T22:18:38.412055Z",
     "iopub.status.busy": "2023-01-29T22:18:38.411613Z",
     "iopub.status.idle": "2023-01-29T22:18:38.415977Z",
     "shell.execute_reply": "2023-01-29T22:18:38.414895Z"
    },
    "jupyter": {
     "outputs_hidden": true
    },
    "papermill": {
     "duration": 0.014207,
     "end_time": "2023-01-29T22:18:38.418336",
     "exception": false,
     "start_time": "2023-01-29T22:18:38.404129",
     "status": "completed"
    },
    "tags": []
   },
   "outputs": [],
   "source": [
    "#q5.hint()\n",
    "#q5.solution()"
   ]
  },
  {
   "cell_type": "markdown",
   "id": "ebf9e3e7",
   "metadata": {
    "papermill": {
     "duration": 0.00591,
     "end_time": "2023-01-29T22:18:38.431574",
     "exception": false,
     "start_time": "2023-01-29T22:18:38.425664",
     "status": "completed"
    },
    "tags": []
   },
   "source": [
    "# Keep Going\n",
    "\n",
    "That's it for lists and tuples! Now you have the baseline knowledge to **[learn about loops](https://www.kaggle.com/colinmorris/loops-and-list-comprehensions)**, which is where lists and tuples get really interesting. "
   ]
  },
  {
   "cell_type": "markdown",
   "id": "2a6d27ca",
   "metadata": {
    "papermill": {
     "duration": 0.006128,
     "end_time": "2023-01-29T22:18:38.443912",
     "exception": false,
     "start_time": "2023-01-29T22:18:38.437784",
     "status": "completed"
    },
    "tags": []
   },
   "source": [
    "---\n",
    "\n",
    "\n",
    "\n",
    "\n",
    "*Have questions or comments? Visit the [course discussion forum](https://www.kaggle.com/learn/python/discussion) to chat with other learners.*"
   ]
  }
 ],
 "metadata": {
  "kernelspec": {
   "display_name": "Python 3",
   "language": "python",
   "name": "python3"
  },
  "language_info": {
   "codemirror_mode": {
    "name": "ipython",
    "version": 3
   },
   "file_extension": ".py",
   "mimetype": "text/x-python",
   "name": "python",
   "nbconvert_exporter": "python",
   "pygments_lexer": "ipython3",
   "version": "3.7.12"
  },
  "papermill": {
   "default_parameters": {},
   "duration": 9.478298,
   "end_time": "2023-01-29T22:18:39.070849",
   "environment_variables": {},
   "exception": null,
   "input_path": "__notebook__.ipynb",
   "output_path": "__notebook__.ipynb",
   "parameters": {},
   "start_time": "2023-01-29T22:18:29.592551",
   "version": "2.3.4"
  }
 },
 "nbformat": 4,
 "nbformat_minor": 5
}
