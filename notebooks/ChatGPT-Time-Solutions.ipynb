{
 "cells": [
  {
   "cell_type": "code",
   "execution_count": 3,
   "metadata": {},
   "outputs": [
    {
     "name": "stdout",
     "output_type": "stream",
     "text": [
      "00:05:23\n"
     ]
    },
    {
     "data": {
      "text/plain": [
       "datetime.time"
      ]
     },
     "execution_count": 3,
     "metadata": {},
     "output_type": "execute_result"
    }
   ],
   "source": [
    "import datetime\n",
    "\n",
    "# Example time data in minutes and seconds format, this also fails with presented a three digit or more decimal\n",
    "time_data = \"5.23\"\n",
    "\n",
    "# Split minutes and seconds and convert to integers\n",
    "minutes, seconds = map(int, time_data.split(\".\"))\n",
    "\n",
    "# Create a datetime object with the given minutes and seconds\n",
    "time_code = datetime.time(minute=minutes, second=seconds)\n",
    "\n",
    "# Convert time code to string in HH:MM:SS format\n",
    "# time_code_str = time_code.strftime(\"%H:%M:%S\")\n",
    "\n",
    "print(time_code)\n",
    "type(time_code)"
   ]
  },
  {
   "cell_type": "code",
   "execution_count": 2,
   "metadata": {},
   "outputs": [
    {
     "name": "stdout",
     "output_type": "stream",
     "text": [
      "0    0.23\n",
      "1    2.45\n",
      "2    3.56\n",
      "3    4.21\n",
      "Name: time, dtype: object\n",
      "       time  value\n",
      "0  00:00:23     10\n",
      "1  00:02:45     20\n",
      "2  00:03:56     30\n",
      "3  00:04:21     40\n"
     ]
    }
   ],
   "source": [
    "import pandas as pd\n",
    "\n",
    "# Example dataframe\n",
    "df = pd.DataFrame({'time': ['0.23', '2.45', '3.56', '4.21'],\n",
    "                   'value': [10, 20, 30, 40]})\n",
    "# if I change the values in the time frame to 3, 4  or 5 decimal places I get an error like I do\n",
    "# when I run this on the VO2 data.\n",
    "\n",
    "print(df['time'])\n",
    "# Convert time column to datetime format\n",
    "df['time'] = pd.to_datetime(df['time'], format='%M.%S').dt.time\n",
    "\n",
    "print(df)\n"
   ]
  }
 ],
 "metadata": {
  "kernelspec": {
   "display_name": "base",
   "language": "python",
   "name": "python3"
  },
  "language_info": {
   "codemirror_mode": {
    "name": "ipython",
    "version": 3
   },
   "file_extension": ".py",
   "mimetype": "text/x-python",
   "name": "python",
   "nbconvert_exporter": "python",
   "pygments_lexer": "ipython3",
   "version": "3.9.12"
  },
  "orig_nbformat": 4
 },
 "nbformat": 4,
 "nbformat_minor": 2
}
