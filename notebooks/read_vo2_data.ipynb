{
 "cells": [
  {
   "attachments": {},
   "cell_type": "markdown",
   "metadata": {},
   "source": [
    "### Importing data in python\n",
    "One of the main issues that we need to cover in python is how to bring data into our environment to do this we will use the pandas library and we will also use the matplotlib library so we can start to plot  our data in beautiful ways..\n",
    "\n",
    "\n",
    "What to do with data in an excel file format?  simply import it with the command \n",
    "\n",
    "Almost the exact same process as opening and working with a CSV (comma seperated value file) you just substitue\n",
    "```\n",
    "df = pd.read_csv('filename.csv')\n",
    "```"
   ]
  },
  {
   "cell_type": "code",
   "execution_count": null,
   "metadata": {},
   "outputs": [],
   "source": [
    "import pandas as pd\n",
    "import matplotlib.pyplot as plt\n",
    "\n",
    "df_excel = pd.read_excel('VO2_excel.xlsx') #this line works\n",
    "\n",
    "# this prints out the first 5 lines of our new dataframe\n",
    "df_excel.head()"
   ]
  },
  {
   "attachments": {},
   "cell_type": "markdown",
   "metadata": {},
   "source": [
    "View what we have by using dataframe.info()"
   ]
  },
  {
   "cell_type": "code",
   "execution_count": null,
   "metadata": {},
   "outputs": [],
   "source": [
    "df_excel.info()"
   ]
  },
  {
   "cell_type": "code",
   "execution_count": null,
   "metadata": {},
   "outputs": [],
   "source": [
    "df_excel['TIME']=pd.to_datetime(df_excel['TIME'],unit='min').apply(lambda x: x.strftime(\"%M:%S.%f\"))"
   ]
  },
  {
   "attachments": {},
   "cell_type": "markdown",
   "metadata": {},
   "source": [
    "We can assign the column value of Time to the variable x like this (below)\n",
    "\n",
    "Select the value when it appears instead of typing it yourself so you get the correct spacing!"
   ]
  },
  {
   "cell_type": "code",
   "execution_count": null,
   "metadata": {},
   "outputs": [],
   "source": [
    "x1 = df_excel[\"TIME\"] # note normally there is an extra space in the header TIME! if you write \"TIME\" it will throw an error\n",
    "                      # you can avoid this by using the tab complete once you see time appear"
   ]
  },
  {
   "attachments": {},
   "cell_type": "markdown",
   "metadata": {},
   "source": [
    "We probably want to remove the data in the 2nd row (3) as the series of dashes --------- indicates that this is where the data starts and we don't what to have NaN (not a number) data in our datafram we could clean this up later but why import the issue to begin with\n",
    "\n",
    "To tell Pandas where the data frame should start and what to include we can use the **header**, and **skiprows** arguments in the example below I say that the header information is in the first (0) and thrid (2) lines, and that the forth line (3) should be skipped.  We should do this as currently column 0 and column 15 have different lengths"
   ]
  },
  {
   "cell_type": "code",
   "execution_count": null,
   "metadata": {},
   "outputs": [],
   "source": [
    "# note we don't need to import anything becuse we did this in the previous cell\n",
    "# we also will just overwrite the df_excel variable we previously created\n",
    "\n",
    "df_excel = pd.read_excel('VO2_excel.xlsx', header=[0,2], skiprows=[3]) #this line works it will also put the units in the header data\n",
    "\n",
    "df_excel.head() # the head command just shows us the first 5 lines..\n",
    "\n",
    "#df_excel.tail() # this shows us the last 5 lines of the data frame"
   ]
  },
  {
   "attachments": {},
   "cell_type": "markdown",
   "metadata": {},
   "source": [
    "### Perform simple stats"
   ]
  },
  {
   "attachments": {},
   "cell_type": "markdown",
   "metadata": {},
   "source": [
    "The following will perform all the descriptives stats on a column of data"
   ]
  },
  {
   "cell_type": "code",
   "execution_count": null,
   "metadata": {},
   "outputs": [],
   "source": [
    "df_excel['HR'].describe()"
   ]
  },
  {
   "attachments": {},
   "cell_type": "markdown",
   "metadata": {},
   "source": [
    "To analyse the column for only stat, substitue describe for the stat like std() standard deviation"
   ]
  },
  {
   "cell_type": "code",
   "execution_count": null,
   "metadata": {},
   "outputs": [],
   "source": [
    "df_excel[\"HR\"].std()"
   ]
  },
  {
   "attachments": {},
   "cell_type": "markdown",
   "metadata": {},
   "source": [
    "Attempting to add value to x though does not work as the header is too complex now to read so you would assign the column number instead we can see that the x variable (column name) is a tuple and that is why we cannot assign it to a name"
   ]
  },
  {
   "cell_type": "code",
   "execution_count": null,
   "metadata": {},
   "outputs": [],
   "source": [
    "x1 = df_excel.columns[0]  # you can change the column intiger here from 0-15 (time - watts) and see how thing change\n",
    "print(type(x1))\n",
    "\n",
    "print('This variable has', len(x1), 'values')\n",
    "print(x1)"
   ]
  },
  {
   "attachments": {},
   "cell_type": "markdown",
   "metadata": {},
   "source": [
    "We can peak at the data frame that we made from the excel data by using the info() command again and wee se that all the data columns are the same size now"
   ]
  },
  {
   "cell_type": "code",
   "execution_count": null,
   "metadata": {},
   "outputs": [],
   "source": [
    "df_excel.info()\n"
   ]
  },
  {
   "attachments": {},
   "cell_type": "markdown",
   "metadata": {},
   "source": [
    "**Note** When the header names are tuples, you can call them by the first reference but they won't show up with autocomplete so lets return to a simple header format\n",
    "\n",
    "You can remove these spaces & special characters but that is more than we have time for in this class..."
   ]
  },
  {
   "cell_type": "code",
   "execution_count": null,
   "metadata": {},
   "outputs": [],
   "source": [
    "df_excel = pd.read_excel('VO2_excel.xlsx', header=[0], skiprows=[1,2,3]) \n",
    "df_excel.info()"
   ]
  },
  {
   "attachments": {},
   "cell_type": "markdown",
   "metadata": {},
   "source": [
    "### First plot\n",
    "Now lets just plot the data to see what it looks like"
   ]
  },
  {
   "cell_type": "code",
   "execution_count": null,
   "metadata": {},
   "outputs": [],
   "source": [
    "df_excel.plot('TIME', 'VO2')"
   ]
  },
  {
   "cell_type": "code",
   "execution_count": null,
   "metadata": {},
   "outputs": [],
   "source": [
    "df_excel.plot(x=0, y=1) # we are calling the data column numbers here"
   ]
  },
  {
   "attachments": {},
   "cell_type": "markdown",
   "metadata": {},
   "source": [
    "You can add a second plot to this graph very easily by adding another plot...\n",
    "I am defining the variables by assigning them to the column header here, be sure to use the **tab** feature to add the column name or you will likely get the spacing in the name incorrect and it will throw and error. I have corrected the datafile so this doesn't occur but know about it just incase"
   ]
  },
  {
   "cell_type": "code",
   "execution_count": null,
   "metadata": {},
   "outputs": [],
   "source": [
    "#This also works\n",
    "x = df_excel['TIME']\n",
    "y = df_excel['VO2']\n",
    "y1 = df_excel['VCO2']\n",
    "plt.plot(x, y, c= 'r', label = '$\\dot VO_2$')\n",
    "plt.plot(x, y1, c='b', label='VE')\n",
    "plt.legend()"
   ]
  },
  {
   "attachments": {},
   "cell_type": "markdown",
   "metadata": {},
   "source": [
    "We can spruce this up a bit by putting a title on the graph and labelling our axes\n",
    ">  ***_Note_*** I added the correct subscript and dot over the $ \\dot V$ using LaTec script between \\$  $ characters"
   ]
  },
  {
   "cell_type": "code",
   "execution_count": null,
   "metadata": {},
   "outputs": [],
   "source": [
    "df_excel.plot(x =0, y =1, xlabel='Time (min)', ylabel=(r'$\\dot VO_2 (L/min)$'), label=('$\\dot VO_2$ L/min'), \n",
    "     title='Simple $\\dot VO_2$ time plot', c='r')"
   ]
  },
  {
   "attachments": {},
   "cell_type": "markdown",
   "metadata": {},
   "source": [
    "### Bells and whistle plot\n",
    "I am also going to use the max function to find VO2 max and print it on the chart\n",
    "\n",
    "As a final touch I will save the output to the file named test.png\n",
    "\n",
    "I have included the hyperlink to the matplotlib library below where you can find all the hidden features to this gem\n",
    "\n",
    " https://matplotlib.org/stable/index.html"
   ]
  },
  {
   "cell_type": "code",
   "execution_count": null,
   "metadata": {},
   "outputs": [],
   "source": [
    "x = df_excel['TIME']\n",
    "y = df_excel['VO2']\n",
    "\n",
    "# https://matplotlib.org/stable/index.html\n",
    "\n",
    "\n",
    "ymax = max(y)\n",
    "xmax = x[y.argmax()]\n",
    "fig, ax = plt.subplots()\n",
    "ax.annotate('$\\dot VO_2max$ =({}) L/min'.format(round(ymax, 2)), xy=(xmax, ymax), xytext=(xmax+.5, ymax+.5),\n",
    "            arrowprops=dict(facecolor='red', shrink=0.05),\n",
    "            )\n",
    "\n",
    "\n",
    "ax.plot(x, y,  label=('$\\dot VO_2$ L/min') )\n",
    "# ax.plot(x, y1,  label=('$\\dot VCO_2$ L/min') )\n",
    "ax.spines[['right', 'top']].set_visible(False)\n",
    "#note all these set features could be added in one line but reading it would be difficult\n",
    "ax.set(title = ('$\\dot VO_2$'), label=('$\\dot VO_2$ L/min'))  \n",
    "ax.set(xlabel=('time'))\n",
    "ax.set(ylabel=('L/min'))\n",
    "ax.legend()\n",
    "\n",
    "fig.savefig(\"Vo2-max.jpg\", dpi=300, bbox_inches = \"tight\")\n",
    "# Code below works without the fig, ax settings... line 10 but it is ugly...\n",
    "#df.plot(x =0, y =1, xlabel='Time (min)', ylabel=(r'$\\dot VO_2 (L/min)$'), label=('$\\dot VO_2$ L/min'), \n",
    "#     title='Simple $\\dot VO_2$ time plot')"
   ]
  },
  {
   "attachments": {},
   "cell_type": "markdown",
   "metadata": {},
   "source": [
    "### It should probably be pointed out here, you have done all the hard work...\n",
    "If you have multiple files with the same layout, changing the file you import will generate this graph easily...\n",
    "You could even put this in a \" for loop \" and do all files in a folder in minutes...\n",
    "just change it so the figure file is saved based on the filename currently used..."
   ]
  },
  {
   "attachments": {},
   "cell_type": "markdown",
   "metadata": {},
   "source": [
    "### Plot three graphs and share the same x axis\n",
    "you just need to modify your code sligthly..."
   ]
  },
  {
   "cell_type": "code",
   "execution_count": null,
   "metadata": {},
   "outputs": [],
   "source": [
    "x = df_excel['TIME']\n",
    "y = df_excel['VO2']\n",
    "y1 = df_excel['VE'] #VE values\n",
    "y2 = df_excel['VCO2'] #vco2 data\n",
    "\n",
    "# https://matplotlib.org/stable/index.html\n",
    "\n",
    "# find vo2 max in y value\n",
    "ymax = max(y)\n",
    "# find position that max occurs in x column\n",
    "xmax = x[y.argmax()]\n",
    "\n",
    "\n",
    "# add arguments to subplot to plot 3 graphs in 1 box with a shared x axis\n",
    "fig, ax = plt.subplots(3, 1, sharex=True) \n",
    "# remove horizontal spaces between axes\n",
    "fig.subplots_adjust(hspace=0)\n",
    "\n",
    "#adds an indicator for VO2 max in top plot\n",
    "#Note that the ax difinition will relate to a sub plot in the square brackets\n",
    "ax[0].annotate('$\\dot VO_2max$ =({}) L/min'.format(round(ymax, 2)), xy=(xmax, ymax), xytext=(xmax+.5, ymax+ 1),\n",
    "            arrowprops=dict(facecolor='red', shrink= 0.05),\n",
    "            )\n",
    "\n",
    "\n",
    "ax[0].plot(x, y,  label=('$\\dot VO_2$'), c='r' )\n",
    "ax[0].spines[['right', 'top']].set_visible(False)\n",
    "#note all these set features could be added in one line but reading it would be difficult\n",
    "#ax.set(title = ('$\\dot VO_2$'), label=('$\\dot VO_2$ L/min'))  \n",
    "ax[0].set(ylabel=('L/min'))\n",
    "ax[0].legend()\n",
    "\n",
    "# Second plot of values down from the top\n",
    "ax[1].plot(x, y1, label=('VE'), c='b')\n",
    "ax[1].spines[['top', 'right']].set_visible(False)\n",
    "ax[1].set(ylabel=('breaths/min'))\n",
    "ax[1].legend()\n",
    "\n",
    "# Third plot of values down from the top\n",
    "ax[2].plot(x, y2, label=('$\\dot VCO_2$'), c = 'g')\n",
    "ax[2].spines[['top', 'right']].set_visible(False)\n",
    "ax[2].set(ylabel=('L/min'))\n",
    "ax[2].set(xlabel=('time (min)'))\n",
    "ax[2].legend()\n",
    "\n",
    "# small piece of code to save the file as a png, this can changed to jpg and pdf \n",
    "fig.savefig(\"test-3.png\", dpi=300, bbox_inches = \"tight\")"
   ]
  },
  {
   "cell_type": "code",
   "execution_count": null,
   "metadata": {},
   "outputs": [],
   "source": []
  },
  {
   "cell_type": "code",
   "execution_count": null,
   "metadata": {},
   "outputs": [],
   "source": [
    "x = df_excel['VO2']\n",
    "y = df_excel['VE'] # Ventilation rate\n",
    "y1 = df_excel['FEO2'] #  Expired O2 values\n",
    "y2 = df_excel['FECO2'] # Expired CO2 data\n",
    "\n",
    "# https://matplotlib.org/stable/index.html\n",
    "\n",
    "# find vo2 max in y value\n",
    "#ymax = max(y)\n",
    "# find position that max occurs in x column\n",
    "#xmax = x[y.argmax()]\n",
    "\n",
    "\n",
    "# add arguments to subplot to plot 3 graphs in 1 box with a shared x axis\n",
    "fig, ax = plt.subplots(3, 1, sharex=True) \n",
    "# remove horizontal spaces between axes\n",
    "fig.subplots_adjust(hspace=0)\n",
    "\n",
    "#adds an indicator for VO2 max in top plot\n",
    "#Note that the ax difinition will relate to a sub plot in the square brackets\n",
    "#ax[0].annotate('$\\dot VE$ =({}) BPM'.format(round(ymax, 2)), xy=(xmax, ymax), xytext=(xmax+.5, ymax+ 1),\n",
    "#           arrowprops=dict(facecolor='red', shrink= 0.05),\n",
    "#            )\n",
    "\n",
    "\n",
    "ax[0].plot(x, y,  label=('$FEO_2 %$'), linestyle=\"\", marker=\"o\", c='r' )\n",
    "ax[0].spines[['right', 'top']].set_visible(False)\n",
    "#note all these set features could be added in one line but reading it would be difficult\n",
    "#ax.set(title = ('$\\dot VO_2$'), label=('$\\dot VO_2$ L/min'))  \n",
    "ax[0].set(ylabel=('BPM'))\n",
    "ax[0].legend()\n",
    "\n",
    "# Second plot of values down from the top\n",
    "ax[1].plot(x, y1, label=('$FECO_2$'),linestyle=\"\", marker=\"o\", c='b')\n",
    "ax[1].spines[['top', 'right']].set_visible(False)\n",
    "ax[1].set(ylabel=('%'))\n",
    "ax[1].legend()\n",
    "ax[1].set_ylim(15.3,17.8)\n",
    "\n",
    "# Third plot of values down from the top\n",
    "ax[2].plot(x, y2, label=('$\\dot VCO_2$'),linestyle=\"\", marker=\"o\", c = 'g')\n",
    "ax[2].spines[['top', 'right']].set_visible(False)\n",
    "ax[2].set(ylabel=('%'))\n",
    "ax[2].set(xlabel=('$\\dot VO_2$ (L/min)'))\n",
    "ax[2].legend()\n",
    "ax[2].set_ylim(3.7,4.8)\n",
    "\n",
    "plt.xlim((.5,3))\n",
    "# small piece of code to save the file as a png, this can changed to jpg and pdf \n",
    "fig.savefig(\"test-3.png\", dpi=300, bbox_inches = \"tight\")\n"
   ]
  }
 ],
 "metadata": {
  "kernelspec": {
   "display_name": "base",
   "language": "python",
   "name": "python3"
  },
  "language_info": {
   "codemirror_mode": {
    "name": "ipython",
    "version": 3
   },
   "file_extension": ".py",
   "mimetype": "text/x-python",
   "name": "python",
   "nbconvert_exporter": "python",
   "pygments_lexer": "ipython3",
   "version": "3.9.12"
  },
  "vscode": {
   "interpreter": {
    "hash": "ad2bdc8ecc057115af97d19610ffacc2b4e99fae6737bb82f5d7fb13d2f2c186"
   }
  }
 },
 "nbformat": 4,
 "nbformat_minor": 4
}
