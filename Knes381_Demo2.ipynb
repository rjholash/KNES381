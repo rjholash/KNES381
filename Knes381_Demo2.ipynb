{
  "metadata": {
    "kernelspec": {
      "language": "python",
      "display_name": "Python 3",
      "name": "python3"
    },
    "language_info": {
      "name": "python",
      "version": "3.7.12",
      "mimetype": "text/x-python",
      "codemirror_mode": {
        "name": "ipython",
        "version": 3
      },
      "pygments_lexer": "ipython3",
      "nbconvert_exporter": "python",
      "file_extension": ".py"
    },
    "kaggle": {
      "accelerator": "none",
      "dataSources": [
        {
          "sourceId": 5084312,
          "sourceType": "datasetVersion",
          "datasetId": 2952233
        }
      ],
      "dockerImageVersionId": 30407,
      "isInternetEnabled": true,
      "language": "python",
      "sourceType": "notebook",
      "isGpuEnabled": false
    },
    "colab": {
      "name": "Knes381-Demo2",
      "provenance": [],
      "include_colab_link": true
    }
  },
  "nbformat_minor": 0,
  "nbformat": 4,
  "cells": [
    {
      "cell_type": "markdown",
      "metadata": {
        "id": "view-in-github",
        "colab_type": "text"
      },
      "source": [
        "<a href=\"https://colab.research.google.com/github/rjholash/KNES381/blob/main/Knes381_Demo2.ipynb\" target=\"_parent\"><img src=\"https://colab.research.google.com/assets/colab-badge.svg\" alt=\"Open In Colab\"/></a>"
      ]
    },
    {
      "source": [
        "\n",
        "# IMPORTANT: RUN THIS CELL IN ORDER TO IMPORT YOUR KAGGLE DATA SOURCES\n",
        "# TO THE CORRECT LOCATION (/kaggle/input) IN YOUR NOTEBOOK,\n",
        "# THEN FEEL FREE TO DELETE THIS CELL.\n",
        "# NOTE: THIS NOTEBOOK ENVIRONMENT DIFFERS FROM KAGGLE'S PYTHON\n",
        "# ENVIRONMENT SO THERE MAY BE MISSING LIBRARIES USED BY YOUR\n",
        "# NOTEBOOK.\n",
        "\n",
        "import os\n",
        "import sys\n",
        "from tempfile import NamedTemporaryFile\n",
        "from urllib.request import urlopen\n",
        "from urllib.parse import unquote, urlparse\n",
        "from urllib.error import HTTPError\n",
        "from zipfile import ZipFile\n",
        "import tarfile\n",
        "import shutil\n",
        "\n",
        "CHUNK_SIZE = 40960\n",
        "DATA_SOURCE_MAPPING = 'demo-knes381:https%3A%2F%2Fstorage.googleapis.com%2Fkaggle-data-sets%2F2952233%2F5084312%2Fbundle%2Farchive.zip%3FX-Goog-Algorithm%3DGOOG4-RSA-SHA256%26X-Goog-Credential%3Dgcp-kaggle-com%2540kaggle-161607.iam.gserviceaccount.com%252F20240318%252Fauto%252Fstorage%252Fgoog4_request%26X-Goog-Date%3D20240318T184754Z%26X-Goog-Expires%3D259200%26X-Goog-SignedHeaders%3Dhost%26X-Goog-Signature%3D90ec391a5ebfae963de515650a79fb2aac58f73cd5f4c7f804e578dfce548e32a7fcc58d97e8597751b5b623acd686725022add9cadb74a4e19967d760d10e82f5501c9c9fe48e673a69a98a8ee3e1bacd5df8230ae5014b3d0dd504ae700e2ac3cec9ea633023da46970215cf4077f5e54aba3cb2a69e265710d82cf30cdb28cfcfff9965a1894dd5a91ee4e0706bddcad2c0545828eaab70ea6166031f99e8fbfe803c36009cbbcf03a5199f1bb512194f4f823cfc9cb337c09c96831c7a91cafbea473faa0cb5d05e49d767d194841355b16031fdd8810a72cc009a7f33a5729ad9d5ccd64dc819c465dc6317195d93797c8da73d128815c60ec50041fcd2'\n",
        "\n",
        "KAGGLE_INPUT_PATH='/kaggle/input'\n",
        "KAGGLE_WORKING_PATH='/kaggle/working'\n",
        "KAGGLE_SYMLINK='kaggle'\n",
        "\n",
        "!umount /kaggle/input/ 2> /dev/null\n",
        "shutil.rmtree('/kaggle/input', ignore_errors=True)\n",
        "os.makedirs(KAGGLE_INPUT_PATH, 0o777, exist_ok=True)\n",
        "os.makedirs(KAGGLE_WORKING_PATH, 0o777, exist_ok=True)\n",
        "\n",
        "try:\n",
        "  os.symlink(KAGGLE_INPUT_PATH, os.path.join(\"..\", 'input'), target_is_directory=True)\n",
        "except FileExistsError:\n",
        "  pass\n",
        "try:\n",
        "  os.symlink(KAGGLE_WORKING_PATH, os.path.join(\"..\", 'working'), target_is_directory=True)\n",
        "except FileExistsError:\n",
        "  pass\n",
        "\n",
        "for data_source_mapping in DATA_SOURCE_MAPPING.split(','):\n",
        "    directory, download_url_encoded = data_source_mapping.split(':')\n",
        "    download_url = unquote(download_url_encoded)\n",
        "    filename = urlparse(download_url).path\n",
        "    destination_path = os.path.join(KAGGLE_INPUT_PATH, directory)\n",
        "    try:\n",
        "        with urlopen(download_url) as fileres, NamedTemporaryFile() as tfile:\n",
        "            total_length = fileres.headers['content-length']\n",
        "            print(f'Downloading {directory}, {total_length} bytes compressed')\n",
        "            dl = 0\n",
        "            data = fileres.read(CHUNK_SIZE)\n",
        "            while len(data) > 0:\n",
        "                dl += len(data)\n",
        "                tfile.write(data)\n",
        "                done = int(50 * dl / int(total_length))\n",
        "                sys.stdout.write(f\"\\r[{'=' * done}{' ' * (50-done)}] {dl} bytes downloaded\")\n",
        "                sys.stdout.flush()\n",
        "                data = fileres.read(CHUNK_SIZE)\n",
        "            if filename.endswith('.zip'):\n",
        "              with ZipFile(tfile) as zfile:\n",
        "                zfile.extractall(destination_path)\n",
        "            else:\n",
        "              with tarfile.open(tfile.name) as tarfile:\n",
        "                tarfile.extractall(destination_path)\n",
        "            print(f'\\nDownloaded and uncompressed: {directory}')\n",
        "    except HTTPError as e:\n",
        "        print(f'Failed to load (likely expired) {download_url} to path {destination_path}')\n",
        "        continue\n",
        "    except OSError as e:\n",
        "        print(f'Failed to load {download_url} to path {destination_path}')\n",
        "        continue\n",
        "\n",
        "print('Data source import complete.')\n"
      ],
      "metadata": {
        "id": "YF4pZEoT5ESj"
      },
      "cell_type": "code",
      "outputs": [],
      "execution_count": null
    },
    {
      "cell_type": "markdown",
      "source": [
        "<IMG SRC=\"https://ucalgary.ca/themes/ucalgary/ucws_theme/images/UCalgary.svg\" WIDTH=250 ALIGN=\"right\">    </IMG>\n",
        "## Plotting $\\dot{V}O_2$ continued...\n",
        "\n",
        "#### Developed by Dr. John Holash at the University of Calgary"
      ],
      "metadata": {
        "id": "LcEC7eNl5ESk"
      }
    },
    {
      "cell_type": "code",
      "source": [
        "# This Python 3 environment comes with many helpful analytics libraries installed\n",
        "# It is defined by the kaggle/python Docker image: https://github.com/kaggle/docker-python\n",
        "# For example, here's several helpful packages to load\n",
        "\n",
        "import numpy as np # linear algebra\n",
        "import pandas as pd # data processing, CSV file I/O (e.g. pd.read_csv)\n",
        "\n",
        "# Input data files are available in the read-only \"../input/\" directory\n",
        "# For example, running this (by clicking run or pressing Shift+Enter) will list all files under the input directory\n",
        "\n",
        "import os\n",
        "for dirname, _, filenames in os.walk('/kaggle/input'):\n",
        "    for filename in filenames:\n",
        "        print(os.path.join(dirname, filename))\n",
        "\n",
        "# You can write up to 20GB to the current directory (/kaggle/working/) that gets preserved as output when you create a version using \"Save & Run All\"\n",
        "# You can also write temporary files to /kaggle/temp/, but they won't be saved outside of the current session"
      ],
      "metadata": {
        "_uuid": "8f2839f25d086af736a60e9eeb907d3b93b6e0e5",
        "_cell_guid": "b1076dfc-b9ad-4769-8c92-a6c4dae69d19",
        "execution": {
          "iopub.status.busy": "2024-03-07T18:35:09.361588Z",
          "iopub.execute_input": "2024-03-07T18:35:09.362665Z",
          "iopub.status.idle": "2024-03-07T18:35:09.399989Z",
          "shell.execute_reply.started": "2024-03-07T18:35:09.362619Z",
          "shell.execute_reply": "2024-03-07T18:35:09.398404Z"
        },
        "trusted": true,
        "id": "63NyrnzC5ESl",
        "outputId": "ba5e7905-fea2-4d44-a792-5b0281999660"
      },
      "execution_count": null,
      "outputs": [
        {
          "name": "stdout",
          "text": "/kaggle/input/demo-knes381/subject_1321.xlsx\n/kaggle/input/demo-knes381/subject_1432.xlsx\n/kaggle/input/demo-knes381/subject_1321.csv\n/kaggle/input/demo-knes381/subject_1232.csv\n/kaggle/input/demo-knes381/VO2_CSV.csv\n/kaggle/input/demo-knes381/subject_1232.xlsx\n/kaggle/input/demo-knes381/subject_1432.csv\n/kaggle/input/demo-knes381/subject_1523.csv\n/kaggle/input/demo-knes381/VO2_excel.xlsx\n/kaggle/input/demo-knes381/subject_1523.xlsx\n",
          "output_type": "stream"
        }
      ]
    },
    {
      "cell_type": "code",
      "source": [
        "df = pd.read_csv('../input/demo-knes381/subject_1232.csv', header=[0], skiprows=[1,2,3])"
      ],
      "metadata": {
        "execution": {
          "iopub.status.busy": "2024-03-07T18:35:09.40239Z",
          "iopub.execute_input": "2024-03-07T18:35:09.40296Z",
          "iopub.status.idle": "2024-03-07T18:35:09.421642Z",
          "shell.execute_reply.started": "2024-03-07T18:35:09.40291Z",
          "shell.execute_reply": "2024-03-07T18:35:09.420593Z"
        },
        "trusted": true,
        "id": "awU6nmxn5ESl"
      },
      "execution_count": null,
      "outputs": []
    },
    {
      "cell_type": "code",
      "source": [
        "df.info()"
      ],
      "metadata": {
        "execution": {
          "iopub.status.busy": "2024-02-29T20:29:40.815837Z",
          "iopub.execute_input": "2024-02-29T20:29:40.816222Z",
          "iopub.status.idle": "2024-02-29T20:29:40.841935Z",
          "shell.execute_reply.started": "2024-02-29T20:29:40.816185Z",
          "shell.execute_reply": "2024-02-29T20:29:40.840505Z"
        },
        "trusted": true,
        "id": "UPBXz_lJ5ESm",
        "outputId": "cc531dbf-10b4-4c73-8a4d-3c1619c5c1a3"
      },
      "execution_count": null,
      "outputs": [
        {
          "name": "stdout",
          "text": "<class 'pandas.core.frame.DataFrame'>\nRangeIndex: 54 entries, 0 to 53\nData columns (total 17 columns):\n #   Column       Non-Null Count  Dtype  \n---  ------       --------------  -----  \n 0   TIME         54 non-null     float64\n 1   VO2          54 non-null     float64\n 2   VO2/kg       54 non-null     float64\n 3   METS         54 non-null     float64\n 4   VCO2         54 non-null     float64\n 5   VE           54 non-null     float64\n 6   RER          54 non-null     float64\n 7   RR           54 non-null     float64\n 8   Vt           54 non-null     float64\n 9   FEO2         54 non-null     float64\n 10  FECO2        54 non-null     float64\n 11  HR           54 non-null     float64\n 12  VE/VO2       54 non-null     float64\n 13  VE/VCO2      54 non-null     float64\n 14  PetCO2       54 non-null     float64\n 15  PO           54 non-null     int64  \n 16  Unnamed: 16  9 non-null      float64\ndtypes: float64(16), int64(1)\nmemory usage: 7.3 KB\n",
          "output_type": "stream"
        }
      ]
    },
    {
      "cell_type": "markdown",
      "source": [
        "### Rename some of the columns so they make sense\n",
        "you can rename them with the value TIME -> Time(min) but don't leave spaces if you want to auto-complete names..."
      ],
      "metadata": {
        "id": "7jHLMJmd5ESm"
      }
    },
    {
      "cell_type": "code",
      "source": [
        "df = df.rename(columns={'VE/': 'VE/VO2','VE/.1': 'VE/VCO2'})"
      ],
      "metadata": {
        "execution": {
          "iopub.status.busy": "2024-02-29T20:29:45.767781Z",
          "iopub.execute_input": "2024-02-29T20:29:45.76851Z",
          "iopub.status.idle": "2024-02-29T20:29:45.774492Z",
          "shell.execute_reply.started": "2024-02-29T20:29:45.768471Z",
          "shell.execute_reply": "2024-02-29T20:29:45.773027Z"
        },
        "trusted": true,
        "id": "yGjwsa3E5ESm"
      },
      "execution_count": null,
      "outputs": []
    },
    {
      "cell_type": "code",
      "source": [
        "df.info()"
      ],
      "metadata": {
        "execution": {
          "iopub.status.busy": "2024-02-29T19:39:41.143888Z",
          "iopub.execute_input": "2024-02-29T19:39:41.144313Z",
          "iopub.status.idle": "2024-02-29T19:39:41.158727Z",
          "shell.execute_reply.started": "2024-02-29T19:39:41.144278Z",
          "shell.execute_reply": "2024-02-29T19:39:41.157187Z"
        },
        "trusted": true,
        "id": "BM5B2mMS5ESm",
        "outputId": "53e446ce-d600-4177-fe9b-f25de3443603"
      },
      "execution_count": null,
      "outputs": [
        {
          "name": "stdout",
          "text": "<class 'pandas.core.frame.DataFrame'>\nRangeIndex: 54 entries, 0 to 53\nData columns (total 17 columns):\n #   Column       Non-Null Count  Dtype  \n---  ------       --------------  -----  \n 0   TIME         54 non-null     float64\n 1   VO2          54 non-null     float64\n 2   VO2/kg       54 non-null     float64\n 3   METS         54 non-null     float64\n 4   VCO2         54 non-null     float64\n 5   VE           54 non-null     float64\n 6   RER          54 non-null     float64\n 7   RR           54 non-null     float64\n 8   Vt           54 non-null     float64\n 9   FEO2         54 non-null     float64\n 10  FECO2        54 non-null     float64\n 11  HR           54 non-null     float64\n 12  VE/VO2       54 non-null     float64\n 13  VE/VCO2      54 non-null     float64\n 14  PetCO2       54 non-null     float64\n 15  PO           54 non-null     int64  \n 16  Unnamed: 16  9 non-null      float64\ndtypes: float64(16), int64(1)\nmemory usage: 7.3 KB\n",
          "output_type": "stream"
        }
      ]
    },
    {
      "cell_type": "code",
      "source": [
        "import matplotlib.pyplot as plt"
      ],
      "metadata": {
        "execution": {
          "iopub.status.busy": "2024-02-29T20:29:51.341467Z",
          "iopub.execute_input": "2024-02-29T20:29:51.341864Z",
          "iopub.status.idle": "2024-02-29T20:29:51.347662Z",
          "shell.execute_reply.started": "2024-02-29T20:29:51.341831Z",
          "shell.execute_reply": "2024-02-29T20:29:51.345942Z"
        },
        "trusted": true,
        "id": "kujDgrNH5ESm"
      },
      "execution_count": null,
      "outputs": []
    },
    {
      "cell_type": "markdown",
      "source": [
        "### Create our big plot...\n",
        "1st define our variables x,y,& y1"
      ],
      "metadata": {
        "id": "QO_TbmIp5ESm"
      }
    },
    {
      "cell_type": "code",
      "source": [
        "# simplify our terms to reduce future typing...\n",
        "x = df['TIME']\n",
        "y = df['VO2']\n",
        "y1 = df['VE']"
      ],
      "metadata": {
        "execution": {
          "iopub.status.busy": "2024-02-29T20:29:54.482851Z",
          "iopub.execute_input": "2024-02-29T20:29:54.483231Z",
          "iopub.status.idle": "2024-02-29T20:29:54.488746Z",
          "shell.execute_reply.started": "2024-02-29T20:29:54.483197Z",
          "shell.execute_reply": "2024-02-29T20:29:54.487872Z"
        },
        "trusted": true,
        "id": "1xbaDonA5ESm"
      },
      "execution_count": null,
      "outputs": []
    },
    {
      "cell_type": "markdown",
      "source": [
        "#### Find the position where max occurs, on each axes"
      ],
      "metadata": {
        "id": "NCe4wwP05ESn"
      }
    },
    {
      "cell_type": "code",
      "source": [
        "#Find VO2 max value\n",
        "ymax = max(y)\n",
        "\n",
        "# find the x position of the ymax value or where ymax occurs on the x axis\n",
        "xmax = x[y.argmax()]"
      ],
      "metadata": {
        "execution": {
          "iopub.status.busy": "2024-02-29T20:30:00.739936Z",
          "iopub.execute_input": "2024-02-29T20:30:00.740373Z",
          "iopub.status.idle": "2024-02-29T20:30:00.745636Z",
          "shell.execute_reply.started": "2024-02-29T20:30:00.740339Z",
          "shell.execute_reply": "2024-02-29T20:30:00.744496Z"
        },
        "trusted": true,
        "id": "125-LLi95ESn"
      },
      "execution_count": null,
      "outputs": []
    },
    {
      "cell_type": "markdown",
      "source": [
        "#### Now we can discover what these values are"
      ],
      "metadata": {
        "id": "FU78Os6e5ESn"
      }
    },
    {
      "cell_type": "code",
      "source": [
        "print(ymax)\n",
        "print(xmax)"
      ],
      "metadata": {
        "execution": {
          "iopub.status.busy": "2024-02-29T20:30:03.49676Z",
          "iopub.execute_input": "2024-02-29T20:30:03.49752Z",
          "iopub.status.idle": "2024-02-29T20:30:03.502979Z",
          "shell.execute_reply.started": "2024-02-29T20:30:03.497477Z",
          "shell.execute_reply": "2024-02-29T20:30:03.501947Z"
        },
        "trusted": true,
        "id": "X83-J86J5ESn",
        "outputId": "49f4e740-4044-4da2-fe72-7a7ed7ac41e5"
      },
      "execution_count": null,
      "outputs": [
        {
          "name": "stdout",
          "text": "4.184775\n26.500189\n",
          "output_type": "stream"
        }
      ]
    },
    {
      "cell_type": "markdown",
      "source": [
        "#### Create the frame and the axis that we will plot in"
      ],
      "metadata": {
        "id": "NLnHYk_l5ESn"
      }
    },
    {
      "cell_type": "code",
      "source": [
        "# break up the figure and axis definitions of a plot\n",
        "# so it is easier to assign values\n",
        "\n",
        "fig, ax = plt.subplots(2, 1, sharex=True)\n",
        "\n",
        "# create 2 subplots share x axis, in the next line we will remove\n",
        "# spaces between the horizontal axis, play with this value to see what happens the value can be 0.01 for example\n",
        "\n",
        "fig.subplots_adjust(hspace=0.1\n",
        "                   )"
      ],
      "metadata": {
        "execution": {
          "iopub.status.busy": "2024-02-29T21:19:58.937626Z",
          "iopub.execute_input": "2024-02-29T21:19:58.93818Z",
          "iopub.status.idle": "2024-02-29T21:19:59.164395Z",
          "shell.execute_reply.started": "2024-02-29T21:19:58.938139Z",
          "shell.execute_reply": "2024-02-29T21:19:59.163084Z"
        },
        "trusted": true,
        "id": "OeqKY3qn5ESn",
        "outputId": "753f725b-e039-4d3a-cb55-405e4ff907cf"
      },
      "execution_count": null,
      "outputs": [
        {
          "output_type": "display_data",
          "data": {
            "text/plain": "<Figure size 640x480 with 2 Axes>",
            "image/png": "[encoded data removed]"
          },
          "metadata": {}
        }
      ]
    },
    {
      "cell_type": "markdown",
      "source": [
        "#### Now that we have that axis value specified, annotate the position and marker for VO2 max"
      ],
      "metadata": {
        "id": "PNlYpr3R5ESn"
      }
    },
    {
      "cell_type": "code",
      "source": [
        "ax[0].annotate('$\\dot VO_2max$ =({}) L/min'.format(round(ymax, 2)),\n",
        "               xy=(xmax, ymax), xytext=(xmax+.5, ymax+ 1),\n",
        "               arrowprops=dict(facecolor='red', shrink= 0.05),\n",
        "                )"
      ],
      "metadata": {
        "execution": {
          "iopub.status.busy": "2024-02-29T20:33:36.491727Z",
          "iopub.execute_input": "2024-02-29T20:33:36.493248Z",
          "iopub.status.idle": "2024-02-29T20:33:36.501525Z",
          "shell.execute_reply.started": "2024-02-29T20:33:36.493181Z",
          "shell.execute_reply": "2024-02-29T20:33:36.500635Z"
        },
        "trusted": true,
        "id": "dgMsJYuo5ESn",
        "outputId": "76892987-d39d-4065-e955-161647ce6c5d"
      },
      "execution_count": null,
      "outputs": [
        {
          "execution_count": 16,
          "output_type": "execute_result",
          "data": {
            "text/plain": "Text(27.000189, 5.184775, '$\\\\dot VO_2max$ =(4.18) L/min')"
          },
          "metadata": {}
        }
      ]
    },
    {
      "cell_type": "markdown",
      "source": [
        "#### For the first plot ax[0] we create the lable and make it red\n",
        "Then we get rid of the right and top plot frame\n",
        "We set the y axis lab as \"L/min\" and tell it to print a legend"
      ],
      "metadata": {
        "id": "B5Zdw8Lq5ESn"
      }
    },
    {
      "cell_type": "code",
      "source": [
        "ax[0].plot(x, y,  label=('$\\dot VO_2$'), c='r' )\n",
        "ax[0].spines[['right', 'top']].set_visible(False)\n",
        "#note all these set features could be added in one line but reading it would be difficult\n",
        "#ax.set(title = ('$\\dot VO_2$'), label=('$\\dot VO_2$ L/min'))\n",
        "ax[0].set(ylabel=('L/min'))\n",
        "ax[0].legend()\n"
      ],
      "metadata": {
        "execution": {
          "iopub.status.busy": "2024-02-29T20:34:12.043473Z",
          "iopub.execute_input": "2024-02-29T20:34:12.04385Z",
          "iopub.status.idle": "2024-02-29T20:34:12.054892Z",
          "shell.execute_reply.started": "2024-02-29T20:34:12.04381Z",
          "shell.execute_reply": "2024-02-29T20:34:12.052972Z"
        },
        "trusted": true,
        "id": "Euf8dlyC5ESn"
      },
      "execution_count": null,
      "outputs": []
    },
    {
      "cell_type": "markdown",
      "source": [
        "#### Same thing for the second plot *note* we don't see the plot because we have not ploted the plot"
      ],
      "metadata": {
        "id": "lYiIBRxQ5ESn"
      }
    },
    {
      "cell_type": "code",
      "source": [
        "# Second plot of values down from the top\n",
        "ax[1].plot(x, y1, label=('VE'), c='b')\n",
        "ax[1].spines[['top', 'right']].set_visible(False)\n",
        "ax[1].set(ylabel=('L/min'))\n",
        "ax[1].legend()"
      ],
      "metadata": {
        "execution": {
          "iopub.status.busy": "2024-02-29T19:46:39.679193Z",
          "iopub.execute_input": "2024-02-29T19:46:39.679695Z",
          "iopub.status.idle": "2024-02-29T19:46:39.693741Z",
          "shell.execute_reply.started": "2024-02-29T19:46:39.679636Z",
          "shell.execute_reply": "2024-02-29T19:46:39.692199Z"
        },
        "trusted": true,
        "id": "lWKl36z35ESn",
        "outputId": "136d57a5-e721-4439-8462-754d7b4ed66e"
      },
      "execution_count": null,
      "outputs": [
        {
          "execution_count": 17,
          "output_type": "execute_result",
          "data": {
            "text/plain": "<matplotlib.legend.Legend at 0x7eeabf9e54d0>"
          },
          "metadata": {}
        }
      ]
    },
    {
      "cell_type": "markdown",
      "source": [
        "#### We can now create a file with our first plot! We will save the plot first for reasons discussed"
      ],
      "metadata": {
        "id": "LDJFEZWQ5ESn"
      }
    },
    {
      "cell_type": "code",
      "source": [
        "fig.savefig(\"VO2-VE-3.png\", dpi=300, bbox_inches = \"tight\")"
      ],
      "metadata": {
        "trusted": true,
        "id": "y-zufuS45ESn"
      },
      "execution_count": null,
      "outputs": []
    },
    {
      "cell_type": "markdown",
      "source": [
        "#### As this is an interactive space we need to put all the code together for it to plot out interactively..."
      ],
      "metadata": {
        "id": "BB5dP4ZF5ESn"
      }
    },
    {
      "cell_type": "code",
      "source": [
        "# break up the figure and axis definitions of a plot\n",
        "# so it is easier to assign values\n",
        "fig, ax = plt.subplots(2, 1, sharex=True)  # Height increased from default\n",
        "# spaces between the horizontal axis, play with this value?\n",
        "fig.subplots_adjust(hspace=0)\n",
        "\n",
        "\n",
        "ax[0].annotate('$\\dot VO_2max$ =({}) L/min'.format(round(ymax, 2)),\n",
        "               xy=(xmax, ymax), xytext=(xmax+.5, ymax+ 1),\n",
        "               arrowprops=dict(facecolor='red', shrink= 0.05),\n",
        "                )\n",
        "\n",
        "ax[0].plot(x, y,  label=('$\\dot VO_2$'), c='r' )\n",
        "ax[0].spines[['right', 'top']].set_visible(False)\n",
        "#note all these set features could be added in one line but reading it would be difficult\n",
        "#ax.set(title = ('$\\dot VO_2$'), label=('$\\dot VO_2$ L/min'))\n",
        "ax[0].set(ylabel=('L/min'))\n",
        "ax[0].legend()\n",
        "\n",
        "# Second plot of values down from the top\n",
        "ax[1].plot(x, y1, label=('VE'), c='b')\n",
        "ax[1].spines[['top', 'right']].set_visible(False)\n",
        "ax[1].set(ylabel=('breaths/min'))\n",
        "ax[1].legend()\n",
        "\n",
        "#ax[0].set_ylim(min(y) - 1, max(y) + 1)  # Adjust as needed for your data\n",
        "#ax[1].set_ylim(min(y1) - 1, max(y1) + 1)  # Adjust as needed\n",
        "\n",
        "# save the figure before we show it... or it will be blank\n",
        "fig.savefig(\"VO2-VE-3.png\", dpi=300, bbox_inches = \"tight\")\n",
        "fig.show()"
      ],
      "metadata": {
        "execution": {
          "iopub.status.busy": "2024-02-29T21:26:29.166547Z",
          "iopub.execute_input": "2024-02-29T21:26:29.166916Z",
          "iopub.status.idle": "2024-02-29T21:26:29.939193Z",
          "shell.execute_reply.started": "2024-02-29T21:26:29.166885Z",
          "shell.execute_reply": "2024-02-29T21:26:29.938251Z"
        },
        "trusted": true,
        "id": "HfnInWUu5ESn",
        "outputId": "a67af415-487d-442c-e023-d961aa082c03"
      },
      "execution_count": null,
      "outputs": [
        {
          "output_type": "display_data",
          "data": {
            "text/plain": "<Figure size 640x480 with 2 Axes>",
            "image/png": "[encoded data removed]"
          },
          "metadata": {}
        }
      ]
    },
    {
      "cell_type": "markdown",
      "source": [
        "### We can put this all together now in one code block that does everything...\n",
        "\n",
        "We have built up each part seperatly in the code above to make sure that all parts of our code should and do work.  Now that we know everything works we can take the next step of putting it together in one code block so we don't run into coherence problems (running things out of order).  We will run everything in one block now, this is a self contained python file and you could turn it into a .py file and run it from the command line and if your path to the datafile was accurate it would run and save the image file."
      ],
      "metadata": {
        "id": "kdRLf85i5ESn"
      }
    },
    {
      "cell_type": "code",
      "source": [
        "### Now all together in one code block that could run independently...\n",
        "# lets take care of importing everything we need at once\n",
        "\n",
        "import numpy as np # linear algebra\n",
        "import pandas as pd # data processing, CSV file I/O (e.g. pd.read_csv)\n",
        "import matplotlib.pyplot as plt\n",
        "\n",
        "# Lets read in our file now\n",
        "df = pd.read_csv('../input/demo-knes381/subject_1232.csv', header=[0], skiprows=[1,2,3])\n",
        "\n",
        "# please note that while this is an output file from the parvo-metabolics cart we have\n",
        "# I have edited this data set and simplied the header file on it\n",
        "\n",
        "# rename our column headers\n",
        "df = df.rename(columns={'VE/': 'VE/VO2','VE/.1': 'VE/VCO2'})\n",
        "\n",
        "# simplify our terms to reduce future typing...\n",
        "# it is easier to write plot x, y than plot df['Time'], df['VO2']\n",
        "x = df['TIME']\n",
        "y = df['VO2']\n",
        "y1 = df['VE']\n",
        "\n",
        "#Find VO2 max value\n",
        "ymax = max(y)\n",
        "\n",
        "# find the x position of the ymax value or where ymax occurs on the x axis\n",
        "xmax = x[y.argmax()]\n",
        "\n",
        "fig, ax = plt.subplots(2, 1, sharex=True, figsize=(8, 10)) # Note I increased the figure size here.\n",
        "\n",
        "# this line seperates the two plots...\n",
        "fig.subplots_adjust(hspace=0)\n",
        "\n",
        "# annotate the position of V02 max before plotting the value, we could do this later but why.\n",
        "\n",
        "ax[0].annotate('$\\dot VO_2max$ =({}) L/min'.format(round(ymax, 2)),\n",
        "               xy=(xmax, ymax), xytext=(xmax+.5, ymax+ .5),\n",
        "               arrowprops=dict(facecolor='red', shrink= 0.05),\n",
        "                )\n",
        "\n",
        "ax[0].plot(x, y, 'o', label=('$\\dot VO_2$'), c='r' )\n",
        "# in the line of code below I hide the top and right black bars serrounding the plot for APA format.\n",
        "ax[0].spines[['right', 'top']].set_visible(False)\n",
        "ax[0].set(ylabel=('L/min'))\n",
        "ax[0].legend()\n",
        "#note all these set features could be added in one line but reading it would be difficult\n",
        "\n",
        "# Second plot of values down from the top\n",
        "ax[1].plot(x, y1, 'o', label=('VE'), c='b')\n",
        "ax[1].spines[['top', 'right']].set_visible(False)\n",
        "ax[1].set(ylabel=('breaths/min'))\n",
        "ax[1].set(xlabel=('Time(min)'))\n",
        "ax[1].legend()\n",
        "\n",
        "# save the figure before we show it... or it will be blank\n",
        "fig.savefig(\"VO2-VE-4.png\", dpi=300, bbox_inches = \"tight\")\n",
        "fig.show()"
      ],
      "metadata": {
        "execution": {
          "iopub.status.busy": "2024-03-07T18:35:37.47915Z",
          "iopub.execute_input": "2024-03-07T18:35:37.480042Z",
          "iopub.status.idle": "2024-03-07T18:35:39.1898Z",
          "shell.execute_reply.started": "2024-03-07T18:35:37.479981Z",
          "shell.execute_reply": "2024-03-07T18:35:39.188557Z"
        },
        "trusted": true,
        "id": "_mxhf1vf5ESo",
        "outputId": "66d2cc67-b5d4-48aa-b4fe-b8a483be3831"
      },
      "execution_count": null,
      "outputs": [
        {
          "output_type": "display_data",
          "data": {
            "text/plain": "<Figure size 800x1000 with 2 Axes>",
            "image/png": "[encoded data removed]"
          },
          "metadata": {}
        }
      ]
    },
    {
      "cell_type": "markdown",
      "source": [
        "### Complete in one code block.\n",
        "Although this took us some time to put together, we now have some code that does everything we want.  If you change the value of the input file above to another data set and run the code it will provide all the analysis at once.  \n",
        "\n",
        "Also, I have mades some little changes, increased the size and changed the marker form a line to dots. Can you see somthing about the data that was hidden before when it was plotted in lines?"
      ],
      "metadata": {
        "id": "BlRSENYc5ESo"
      }
    },
    {
      "cell_type": "code",
      "source": [],
      "metadata": {
        "id": "jUqunQFV5ESo"
      },
      "execution_count": null,
      "outputs": []
    }
  ]
}