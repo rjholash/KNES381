{
 "cells": [
  {
   "cell_type": "code",
   "execution_count": 1,
   "metadata": {},
   "outputs": [
    {
     "ename": "ValueError",
     "evalue": "second must be in 0..59",
     "output_type": "error",
     "traceback": [
      "\u001b[1;31m---------------------------------------------------------------------------\u001b[0m",
      "\u001b[1;31mValueError\u001b[0m                                Traceback (most recent call last)",
      "\u001b[1;32m~\\AppData\\Local\\Temp\\ipykernel_16548\\715663766.py\u001b[0m in \u001b[0;36m<module>\u001b[1;34m\u001b[0m\n\u001b[0;32m      8\u001b[0m \u001b[1;33m\u001b[0m\u001b[0m\n\u001b[0;32m      9\u001b[0m \u001b[1;31m# Create a datetime object with the given minutes and seconds\u001b[0m\u001b[1;33m\u001b[0m\u001b[1;33m\u001b[0m\u001b[0m\n\u001b[1;32m---> 10\u001b[1;33m \u001b[0mtime_code\u001b[0m \u001b[1;33m=\u001b[0m \u001b[0mdatetime\u001b[0m\u001b[1;33m.\u001b[0m\u001b[0mtime\u001b[0m\u001b[1;33m(\u001b[0m\u001b[0mminute\u001b[0m\u001b[1;33m=\u001b[0m\u001b[0mminutes\u001b[0m\u001b[1;33m,\u001b[0m \u001b[0msecond\u001b[0m\u001b[1;33m=\u001b[0m\u001b[0mseconds\u001b[0m\u001b[1;33m)\u001b[0m\u001b[1;33m\u001b[0m\u001b[1;33m\u001b[0m\u001b[0m\n\u001b[0m\u001b[0;32m     11\u001b[0m \u001b[1;33m\u001b[0m\u001b[0m\n\u001b[0;32m     12\u001b[0m \u001b[1;31m# Convert time code to string in HH:MM:SS format\u001b[0m\u001b[1;33m\u001b[0m\u001b[1;33m\u001b[0m\u001b[0m\n",
      "\u001b[1;31mValueError\u001b[0m: second must be in 0..59"
     ]
    }
   ],
   "source": [
    "import datetime\n",
    "\n",
    "# Example time data in minutes and seconds format, this also fails with presented a three digit or more decimal\n",
    "time_data = \"5.23\"\n",
    "\n",
    "# Split minutes and seconds and convert to integers\n",
    "minutes, seconds = map(int, time_data.split(\".\"))\n",
    "\n",
    "# Create a datetime object with the given minutes and seconds\n",
    "time_code = datetime.time(minute=minutes, second=seconds)\n",
    "\n",
    "# Convert time code to string in HH:MM:SS format\n",
    "# time_code_str = time_code.strftime(\"%H:%M:%S\")\n",
    "\n",
    "print(time_code)\n",
    "type(time_code)"
   ]
  },
  {
   "cell_type": "code",
   "execution_count": 9,
   "metadata": {},
   "outputs": [
    {
     "name": "stdout",
     "output_type": "stream",
     "text": [
      "0    1.23\n",
      "1    2.45\n",
      "2    3.56\n",
      "3    4.21\n",
      "Name: time, dtype: object\n",
      "       time  value\n",
      "0  00:01:23     10\n",
      "1  00:02:45     20\n",
      "2  00:03:56     30\n",
      "3  00:04:21     40\n"
     ]
    }
   ],
   "source": [
    "import pandas as pd\n",
    "\n",
    "# Example dataframe\n",
    "df = pd.DataFrame({'time': ['1.23', '2.45', '3.56', '4.21'],\n",
    "                   'value': [10, 20, 30, 40]})\n",
    "# if I change the values in the time frame to 3, 4  or 5 decimal places I get an error like I do\n",
    "# when I run this on the VO2 data.\n",
    "\n",
    "print(df['time'])\n",
    "# Convert time column to datetime format\n",
    "df['time'] = pd.to_datetime(df['time'], format='%M.%S').dt.time\n",
    "\n",
    "print(df)\n"
   ]
  }
 ],
 "metadata": {
  "kernelspec": {
   "display_name": "base",
   "language": "python",
   "name": "python3"
  },
  "language_info": {
   "codemirror_mode": {
    "name": "ipython",
    "version": 3
   },
   "file_extension": ".py",
   "mimetype": "text/x-python",
   "name": "python",
   "nbconvert_exporter": "python",
   "pygments_lexer": "ipython3",
   "version": "3.9.12"
  },
  "orig_nbformat": 4
 },
 "nbformat": 4,
 "nbformat_minor": 2
}
