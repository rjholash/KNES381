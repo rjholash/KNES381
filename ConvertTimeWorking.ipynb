{
 "cells": [
  {
   "cell_type": "code",
   "execution_count": 1,
   "metadata": {},
   "outputs": [],
   "source": [
    "import pandas as pd\n",
    "import numpy as np"
   ]
  },
  {
   "cell_type": "code",
   "execution_count": 6,
   "metadata": {},
   "outputs": [],
   "source": [
    "df = pd.read_csv('VO2_data/VO2_CSV.csv', header=[0], skiprows=[1,2,3])"
   ]
  },
  {
   "cell_type": "code",
   "execution_count": 7,
   "metadata": {},
   "outputs": [
    {
     "data": {
      "text/plain": [
       "0    0.517167\n",
       "1    1.052167\n",
       "2    1.517833\n",
       "3    2.040500\n",
       "4    2.549000\n",
       "Name: TIME, dtype: float64"
      ]
     },
     "execution_count": 7,
     "metadata": {},
     "output_type": "execute_result"
    }
   ],
   "source": [
    "df['TIME'].head()"
   ]
  },
  {
   "cell_type": "code",
   "execution_count": 8,
   "metadata": {},
   "outputs": [
    {
     "data": {
      "text/plain": [
       "0    00:31\n",
       "1    01:03\n",
       "2    01:31\n",
       "3    02:02\n",
       "4    02:32\n",
       "Name: TIME, dtype: object"
      ]
     },
     "execution_count": 8,
     "metadata": {},
     "output_type": "execute_result"
    }
   ],
   "source": [
    "df['TIME'] = pd.to_datetime(df['TIME'], unit='m').dt.strftime('%M:%S')\n",
    "df['TIME'].head()"
   ]
  },
  {
   "cell_type": "code",
   "execution_count": 9,
   "metadata": {},
   "outputs": [
    {
     "name": "stdout",
     "output_type": "stream",
     "text": [
      "0     00:31\n",
      "1     01:03\n",
      "2     01:31\n",
      "3     02:02\n",
      "4     02:32\n",
      "5     03:02\n",
      "6     03:31\n",
      "7     04:00\n",
      "8     04:31\n",
      "9     05:00\n",
      "10    05:31\n",
      "11    06:02\n",
      "12    06:31\n",
      "13    07:00\n",
      "14    07:31\n",
      "15    08:02\n",
      "16    08:32\n",
      "17    09:01\n",
      "18    09:31\n",
      "19    10:01\n",
      "20    10:32\n",
      "21    11:00\n",
      "22    11:30\n",
      "23    12:01\n",
      "24    12:30\n",
      "25    13:01\n",
      "26    13:30\n",
      "27    14:00\n",
      "28    14:30\n",
      "29    15:01\n",
      "30    15:30\n",
      "31    16:02\n",
      "32    16:30\n",
      "33    17:00\n",
      "34    17:31\n",
      "35    18:01\n",
      "36    18:30\n",
      "37    19:00\n",
      "38    19:31\n",
      "39    20:00\n",
      "40    20:30\n",
      "41    21:01\n",
      "42    21:30\n",
      "43    22:00\n",
      "44    22:30\n",
      "45    23:00\n",
      "46    23:30\n",
      "47    24:00\n",
      "48    24:30\n",
      "49    25:00\n",
      "50    25:30\n",
      "51    26:00\n",
      "52    26:30\n",
      "53    27:00\n",
      "54    27:23\n",
      "Name: TIME, dtype: object\n"
     ]
    }
   ],
   "source": [
    "print(df['TIME'])"
   ]
  },
  {
   "cell_type": "code",
   "execution_count": null,
   "metadata": {},
   "outputs": [],
   "source": []
  }
 ],
 "metadata": {
  "kernelspec": {
   "display_name": "base",
   "language": "python",
   "name": "python3"
  },
  "language_info": {
   "codemirror_mode": {
    "name": "ipython",
    "version": 3
   },
   "file_extension": ".py",
   "mimetype": "text/x-python",
   "name": "python",
   "nbconvert_exporter": "python",
   "pygments_lexer": "ipython3",
   "version": "3.9.12"
  },
  "orig_nbformat": 4
 },
 "nbformat": 4,
 "nbformat_minor": 2
}
