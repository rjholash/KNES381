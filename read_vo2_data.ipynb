{
 "cells": [
  {
   "attachments": {},
   "cell_type": "markdown",
   "metadata": {},
   "source": [
    "### Importing data in python\n",
    "One of the main issues that we need to cover in python is how to bring data into our environment to do this we will use the pandas library and we will also use the matplotlib library so we can start to plot  our data in beautiful ways..\n",
    "\n",
    "\n",
    "What to do with data in an excel file format?  simply import it with the command \n",
    "\n",
    "Almost the exact same process as opening and working with a CSV (comma seperated value file) you just substitue\n",
    "```\n",
    "df = pd.read_csv('filename.csv')\n",
    "```"
   ]
  },
  {
   "cell_type": "code",
   "execution_count": 1,
   "metadata": {},
   "outputs": [
    {
     "data": {
      "text/html": [
       "<div>\n",
       "<style scoped>\n",
       "    .dataframe tbody tr th:only-of-type {\n",
       "        vertical-align: middle;\n",
       "    }\n",
       "\n",
       "    .dataframe tbody tr th {\n",
       "        vertical-align: top;\n",
       "    }\n",
       "\n",
       "    .dataframe thead th {\n",
       "        text-align: right;\n",
       "    }\n",
       "</style>\n",
       "<table border=\"1\" class=\"dataframe\">\n",
       "  <thead>\n",
       "    <tr style=\"text-align: right;\">\n",
       "      <th></th>\n",
       "      <th>TIME</th>\n",
       "      <th>VO2</th>\n",
       "      <th>VO2/kg</th>\n",
       "      <th>METS</th>\n",
       "      <th>VCO2</th>\n",
       "      <th>VE</th>\n",
       "      <th>RER</th>\n",
       "      <th>RR</th>\n",
       "      <th>Vt</th>\n",
       "      <th>FEO2</th>\n",
       "      <th>FECO2</th>\n",
       "      <th>HR</th>\n",
       "      <th>VE/VO2</th>\n",
       "      <th>VE/CO2</th>\n",
       "      <th>PetCO2</th>\n",
       "      <th>Power</th>\n",
       "    </tr>\n",
       "  </thead>\n",
       "  <tbody>\n",
       "    <tr>\n",
       "      <th>0</th>\n",
       "      <td>NaN</td>\n",
       "      <td>STPD</td>\n",
       "      <td>STPD</td>\n",
       "      <td>NaN</td>\n",
       "      <td>STPD</td>\n",
       "      <td>BTPS</td>\n",
       "      <td>NaN</td>\n",
       "      <td>NaN</td>\n",
       "      <td>BTPS</td>\n",
       "      <td>NaN</td>\n",
       "      <td>NaN</td>\n",
       "      <td>NaN</td>\n",
       "      <td>NaN</td>\n",
       "      <td>NaN</td>\n",
       "      <td>NaN</td>\n",
       "      <td>NaN</td>\n",
       "    </tr>\n",
       "    <tr>\n",
       "      <th>1</th>\n",
       "      <td>min</td>\n",
       "      <td>L/min</td>\n",
       "      <td>ml/kg/m</td>\n",
       "      <td>NaN</td>\n",
       "      <td>L/min</td>\n",
       "      <td>L/min</td>\n",
       "      <td>NaN</td>\n",
       "      <td>BPM</td>\n",
       "      <td>L</td>\n",
       "      <td>%</td>\n",
       "      <td>%</td>\n",
       "      <td>bpm</td>\n",
       "      <td>BT/ST</td>\n",
       "      <td>BT/ST</td>\n",
       "      <td>mmHg</td>\n",
       "      <td>Watts</td>\n",
       "    </tr>\n",
       "    <tr>\n",
       "      <th>2</th>\n",
       "      <td>----------</td>\n",
       "      <td>NaN</td>\n",
       "      <td>NaN</td>\n",
       "      <td>NaN</td>\n",
       "      <td>NaN</td>\n",
       "      <td>NaN</td>\n",
       "      <td>NaN</td>\n",
       "      <td>NaN</td>\n",
       "      <td>NaN</td>\n",
       "      <td>NaN</td>\n",
       "      <td>NaN</td>\n",
       "      <td>NaN</td>\n",
       "      <td>NaN</td>\n",
       "      <td>NaN</td>\n",
       "      <td>NaN</td>\n",
       "      <td>NaN</td>\n",
       "    </tr>\n",
       "    <tr>\n",
       "      <th>3</th>\n",
       "      <td>0.517167</td>\n",
       "      <td>0.247651</td>\n",
       "      <td>4.552413</td>\n",
       "      <td>1.300690</td>\n",
       "      <td>0.18422</td>\n",
       "      <td>19.603882</td>\n",
       "      <td>0.743868</td>\n",
       "      <td>17.402514</td>\n",
       "      <td>1.126497</td>\n",
       "      <td>19.247952</td>\n",
       "      <td>1.36228</td>\n",
       "      <td>82</td>\n",
       "      <td>79.15921</td>\n",
       "      <td>106.415611</td>\n",
       "      <td>10.536668</td>\n",
       "      <td>50</td>\n",
       "    </tr>\n",
       "    <tr>\n",
       "      <th>4</th>\n",
       "      <td>1.052167</td>\n",
       "      <td>0.687631</td>\n",
       "      <td>12.640276</td>\n",
       "      <td>3.611507</td>\n",
       "      <td>0.524605</td>\n",
       "      <td>19.488014</td>\n",
       "      <td>0.762917</td>\n",
       "      <td>22.429905</td>\n",
       "      <td>0.868841</td>\n",
       "      <td>16.212049</td>\n",
       "      <td>3.827807</td>\n",
       "      <td>84</td>\n",
       "      <td>28.340801</td>\n",
       "      <td>37.147957</td>\n",
       "      <td>25.49148</td>\n",
       "      <td>50</td>\n",
       "    </tr>\n",
       "  </tbody>\n",
       "</table>\n",
       "</div>"
      ],
      "text/plain": [
       "         TIME       VO2     VO2/kg      METS      VCO2         VE       RER  \\\n",
       "0         NaN      STPD       STPD       NaN      STPD       BTPS       NaN   \n",
       "1         min     L/min    ml/kg/m       NaN     L/min      L/min       NaN   \n",
       "2  ----------       NaN        NaN       NaN       NaN        NaN       NaN   \n",
       "3    0.517167  0.247651   4.552413  1.300690   0.18422  19.603882  0.743868   \n",
       "4    1.052167  0.687631  12.640276  3.611507  0.524605  19.488014  0.762917   \n",
       "\n",
       "          RR        Vt       FEO2     FECO2   HR     VE/VO2      VE/CO2  \\\n",
       "0        NaN      BTPS        NaN       NaN  NaN        NaN         NaN   \n",
       "1        BPM         L          %         %  bpm      BT/ST       BT/ST   \n",
       "2        NaN       NaN        NaN       NaN  NaN        NaN         NaN   \n",
       "3  17.402514  1.126497  19.247952   1.36228   82   79.15921  106.415611   \n",
       "4  22.429905  0.868841  16.212049  3.827807   84  28.340801   37.147957   \n",
       "\n",
       "      PetCO2  Power  \n",
       "0        NaN    NaN  \n",
       "1       mmHg  Watts  \n",
       "2        NaN    NaN  \n",
       "3  10.536668     50  \n",
       "4   25.49148     50  "
      ]
     },
     "execution_count": 1,
     "metadata": {},
     "output_type": "execute_result"
    }
   ],
   "source": [
    "import pandas as pd\n",
    "import matplotlib.pyplot as plt\n",
    "\n",
    "df_excel = pd.read_excel('VO2_excel.xlsx') #this line works\n",
    "\n",
    "# this prints out the first 5 lines of our new dataframe\n",
    "df_excel.head()"
   ]
  },
  {
   "attachments": {},
   "cell_type": "markdown",
   "metadata": {},
   "source": [
    "View what we have by using dataframe.info()"
   ]
  },
  {
   "cell_type": "code",
   "execution_count": 2,
   "metadata": {},
   "outputs": [
    {
     "name": "stdout",
     "output_type": "stream",
     "text": [
      "<class 'pandas.core.frame.DataFrame'>\n",
      "RangeIndex: 58 entries, 0 to 57\n",
      "Data columns (total 16 columns):\n",
      " #   Column  Non-Null Count  Dtype  \n",
      "---  ------  --------------  -----  \n",
      " 0   TIME    57 non-null     object \n",
      " 1   VO2     57 non-null     object \n",
      " 2   VO2/kg  57 non-null     object \n",
      " 3   METS    55 non-null     float64\n",
      " 4   VCO2    57 non-null     object \n",
      " 5   VE      57 non-null     object \n",
      " 6   RER     55 non-null     float64\n",
      " 7   RR      56 non-null     object \n",
      " 8   Vt      57 non-null     object \n",
      " 9   FEO2    56 non-null     object \n",
      " 10  FECO2   56 non-null     object \n",
      " 11  HR      56 non-null     object \n",
      " 12  VE/VO2  56 non-null     object \n",
      " 13  VE/CO2  56 non-null     object \n",
      " 14  PetCO2  56 non-null     object \n",
      " 15  Power   56 non-null     object \n",
      "dtypes: float64(2), object(14)\n",
      "memory usage: 7.4+ KB\n"
     ]
    }
   ],
   "source": [
    "df_excel.info()"
   ]
  },
  {
   "cell_type": "code",
   "execution_count": 5,
   "metadata": {},
   "outputs": [
    {
     "ename": "ValueError",
     "evalue": "cannot cast unit min",
     "output_type": "error",
     "traceback": [
      "\u001b[1;31m---------------------------------------------------------------------------\u001b[0m",
      "\u001b[1;31mValueError\u001b[0m                                Traceback (most recent call last)",
      "\u001b[1;31mValueError\u001b[0m: cannot cast unit min"
     ]
    },
    {
     "name": "stderr",
     "output_type": "stream",
     "text": [
      "Exception ignored in: 'pandas._libs.tslibs.conversion.precision_from_unit'\n",
      "Traceback (most recent call last):\n",
      "  File \"c:\\ProgramData\\Anaconda3\\lib\\site-packages\\pandas\\core\\tools\\datetimes.py\", line 530, in _to_datetime_with_unit\n",
      "    arr, tz_parsed = tslib.array_with_unit_to_datetime(arg, unit, errors=errors)\n",
      "ValueError: cannot cast unit min\n"
     ]
    },
    {
     "ename": "ValueError",
     "evalue": "non convertible value min with the unit 'min'",
     "output_type": "error",
     "traceback": [
      "\u001b[1;31m---------------------------------------------------------------------------\u001b[0m",
      "\u001b[1;31mValueError\u001b[0m                                Traceback (most recent call last)",
      "\u001b[1;32mc:\\ProgramData\\Anaconda3\\lib\\site-packages\\pandas\\_libs\\tslib.pyx\u001b[0m in \u001b[0;36mpandas._libs.tslib.array_with_unit_to_datetime\u001b[1;34m()\u001b[0m\n",
      "\u001b[1;31mValueError\u001b[0m: could not convert string to float: 'min'",
      "\nDuring handling of the above exception, another exception occurred:\n",
      "\u001b[1;31mValueError\u001b[0m                                Traceback (most recent call last)",
      "\u001b[1;32m~\\AppData\\Local\\Temp\\ipykernel_19720\\2639613977.py\u001b[0m in \u001b[0;36m<module>\u001b[1;34m\u001b[0m\n\u001b[1;32m----> 1\u001b[1;33m \u001b[0mdf_excel\u001b[0m\u001b[1;33m[\u001b[0m\u001b[1;34m'TIME'\u001b[0m\u001b[1;33m]\u001b[0m\u001b[1;33m=\u001b[0m\u001b[0mpd\u001b[0m\u001b[1;33m.\u001b[0m\u001b[0mto_datetime\u001b[0m\u001b[1;33m(\u001b[0m\u001b[0mdf_excel\u001b[0m\u001b[1;33m[\u001b[0m\u001b[1;34m'TIME'\u001b[0m\u001b[1;33m]\u001b[0m\u001b[1;33m,\u001b[0m\u001b[0munit\u001b[0m\u001b[1;33m=\u001b[0m\u001b[1;34m'min'\u001b[0m\u001b[1;33m)\u001b[0m\u001b[1;33m.\u001b[0m\u001b[0mapply\u001b[0m\u001b[1;33m(\u001b[0m\u001b[1;32mlambda\u001b[0m \u001b[0mx\u001b[0m\u001b[1;33m:\u001b[0m \u001b[0mx\u001b[0m\u001b[1;33m.\u001b[0m\u001b[0mstrftime\u001b[0m\u001b[1;33m(\u001b[0m\u001b[1;34m\"%M:%S.%f\"\u001b[0m\u001b[1;33m)\u001b[0m\u001b[1;33m)\u001b[0m\u001b[1;33m\u001b[0m\u001b[1;33m\u001b[0m\u001b[0m\n\u001b[0m",
      "\u001b[1;32mc:\\ProgramData\\Anaconda3\\lib\\site-packages\\pandas\\core\\tools\\datetimes.py\u001b[0m in \u001b[0;36mto_datetime\u001b[1;34m(arg, errors, dayfirst, yearfirst, utc, format, exact, unit, infer_datetime_format, origin, cache)\u001b[0m\n\u001b[0;32m   1049\u001b[0m             \u001b[0mresult\u001b[0m \u001b[1;33m=\u001b[0m \u001b[0marg\u001b[0m\u001b[1;33m.\u001b[0m\u001b[0mmap\u001b[0m\u001b[1;33m(\u001b[0m\u001b[0mcache_array\u001b[0m\u001b[1;33m)\u001b[0m\u001b[1;33m\u001b[0m\u001b[1;33m\u001b[0m\u001b[0m\n\u001b[0;32m   1050\u001b[0m         \u001b[1;32melse\u001b[0m\u001b[1;33m:\u001b[0m\u001b[1;33m\u001b[0m\u001b[1;33m\u001b[0m\u001b[0m\n\u001b[1;32m-> 1051\u001b[1;33m             \u001b[0mvalues\u001b[0m \u001b[1;33m=\u001b[0m \u001b[0mconvert_listlike\u001b[0m\u001b[1;33m(\u001b[0m\u001b[0marg\u001b[0m\u001b[1;33m.\u001b[0m\u001b[0m_values\u001b[0m\u001b[1;33m,\u001b[0m \u001b[0mformat\u001b[0m\u001b[1;33m)\u001b[0m\u001b[1;33m\u001b[0m\u001b[1;33m\u001b[0m\u001b[0m\n\u001b[0m\u001b[0;32m   1052\u001b[0m             \u001b[0mresult\u001b[0m \u001b[1;33m=\u001b[0m \u001b[0marg\u001b[0m\u001b[1;33m.\u001b[0m\u001b[0m_constructor\u001b[0m\u001b[1;33m(\u001b[0m\u001b[0mvalues\u001b[0m\u001b[1;33m,\u001b[0m \u001b[0mindex\u001b[0m\u001b[1;33m=\u001b[0m\u001b[0marg\u001b[0m\u001b[1;33m.\u001b[0m\u001b[0mindex\u001b[0m\u001b[1;33m,\u001b[0m \u001b[0mname\u001b[0m\u001b[1;33m=\u001b[0m\u001b[0marg\u001b[0m\u001b[1;33m.\u001b[0m\u001b[0mname\u001b[0m\u001b[1;33m)\u001b[0m\u001b[1;33m\u001b[0m\u001b[1;33m\u001b[0m\u001b[0m\n\u001b[0;32m   1053\u001b[0m     \u001b[1;32melif\u001b[0m \u001b[0misinstance\u001b[0m\u001b[1;33m(\u001b[0m\u001b[0marg\u001b[0m\u001b[1;33m,\u001b[0m \u001b[1;33m(\u001b[0m\u001b[0mABCDataFrame\u001b[0m\u001b[1;33m,\u001b[0m \u001b[0mabc\u001b[0m\u001b[1;33m.\u001b[0m\u001b[0mMutableMapping\u001b[0m\u001b[1;33m)\u001b[0m\u001b[1;33m)\u001b[0m\u001b[1;33m:\u001b[0m\u001b[1;33m\u001b[0m\u001b[1;33m\u001b[0m\u001b[0m\n",
      "\u001b[1;32mc:\\ProgramData\\Anaconda3\\lib\\site-packages\\pandas\\core\\tools\\datetimes.py\u001b[0m in \u001b[0;36m_convert_listlike_datetimes\u001b[1;34m(arg, format, name, tz, unit, errors, infer_datetime_format, dayfirst, yearfirst, exact)\u001b[0m\n\u001b[0;32m    355\u001b[0m         \u001b[1;32mif\u001b[0m \u001b[0mformat\u001b[0m \u001b[1;32mis\u001b[0m \u001b[1;32mnot\u001b[0m \u001b[1;32mNone\u001b[0m\u001b[1;33m:\u001b[0m\u001b[1;33m\u001b[0m\u001b[1;33m\u001b[0m\u001b[0m\n\u001b[0;32m    356\u001b[0m             \u001b[1;32mraise\u001b[0m \u001b[0mValueError\u001b[0m\u001b[1;33m(\u001b[0m\u001b[1;34m\"cannot specify both format and unit\"\u001b[0m\u001b[1;33m)\u001b[0m\u001b[1;33m\u001b[0m\u001b[1;33m\u001b[0m\u001b[0m\n\u001b[1;32m--> 357\u001b[1;33m         \u001b[1;32mreturn\u001b[0m \u001b[0m_to_datetime_with_unit\u001b[0m\u001b[1;33m(\u001b[0m\u001b[0marg\u001b[0m\u001b[1;33m,\u001b[0m \u001b[0munit\u001b[0m\u001b[1;33m,\u001b[0m \u001b[0mname\u001b[0m\u001b[1;33m,\u001b[0m \u001b[0mtz\u001b[0m\u001b[1;33m,\u001b[0m \u001b[0merrors\u001b[0m\u001b[1;33m)\u001b[0m\u001b[1;33m\u001b[0m\u001b[1;33m\u001b[0m\u001b[0m\n\u001b[0m\u001b[0;32m    358\u001b[0m     \u001b[1;32melif\u001b[0m \u001b[0mgetattr\u001b[0m\u001b[1;33m(\u001b[0m\u001b[0marg\u001b[0m\u001b[1;33m,\u001b[0m \u001b[1;34m\"ndim\"\u001b[0m\u001b[1;33m,\u001b[0m \u001b[1;36m1\u001b[0m\u001b[1;33m)\u001b[0m \u001b[1;33m>\u001b[0m \u001b[1;36m1\u001b[0m\u001b[1;33m:\u001b[0m\u001b[1;33m\u001b[0m\u001b[1;33m\u001b[0m\u001b[0m\n\u001b[0;32m    359\u001b[0m         raise TypeError(\n",
      "\u001b[1;32mc:\\ProgramData\\Anaconda3\\lib\\site-packages\\pandas\\core\\tools\\datetimes.py\u001b[0m in \u001b[0;36m_to_datetime_with_unit\u001b[1;34m(arg, unit, name, tz, errors)\u001b[0m\n\u001b[0;32m    528\u001b[0m     \u001b[1;32melse\u001b[0m\u001b[1;33m:\u001b[0m\u001b[1;33m\u001b[0m\u001b[1;33m\u001b[0m\u001b[0m\n\u001b[0;32m    529\u001b[0m         \u001b[0marg\u001b[0m \u001b[1;33m=\u001b[0m \u001b[0mnp\u001b[0m\u001b[1;33m.\u001b[0m\u001b[0masarray\u001b[0m\u001b[1;33m(\u001b[0m\u001b[0marg\u001b[0m\u001b[1;33m)\u001b[0m\u001b[1;33m\u001b[0m\u001b[1;33m\u001b[0m\u001b[0m\n\u001b[1;32m--> 530\u001b[1;33m         \u001b[0marr\u001b[0m\u001b[1;33m,\u001b[0m \u001b[0mtz_parsed\u001b[0m \u001b[1;33m=\u001b[0m \u001b[0mtslib\u001b[0m\u001b[1;33m.\u001b[0m\u001b[0marray_with_unit_to_datetime\u001b[0m\u001b[1;33m(\u001b[0m\u001b[0marg\u001b[0m\u001b[1;33m,\u001b[0m \u001b[0munit\u001b[0m\u001b[1;33m,\u001b[0m \u001b[0merrors\u001b[0m\u001b[1;33m=\u001b[0m\u001b[0merrors\u001b[0m\u001b[1;33m)\u001b[0m\u001b[1;33m\u001b[0m\u001b[1;33m\u001b[0m\u001b[0m\n\u001b[0m\u001b[0;32m    531\u001b[0m \u001b[1;33m\u001b[0m\u001b[0m\n\u001b[0;32m    532\u001b[0m     \u001b[1;32mif\u001b[0m \u001b[0merrors\u001b[0m \u001b[1;33m==\u001b[0m \u001b[1;34m\"ignore\"\u001b[0m\u001b[1;33m:\u001b[0m\u001b[1;33m\u001b[0m\u001b[1;33m\u001b[0m\u001b[0m\n",
      "\u001b[1;32mc:\\ProgramData\\Anaconda3\\lib\\site-packages\\pandas\\_libs\\tslib.pyx\u001b[0m in \u001b[0;36mpandas._libs.tslib.array_with_unit_to_datetime\u001b[1;34m()\u001b[0m\n",
      "\u001b[1;31mValueError\u001b[0m: non convertible value min with the unit 'min'"
     ]
    }
   ],
   "source": [
    "df_excel['TIME']=pd.to_datetime(df_excel['TIME'],unit='min').apply(lambda x: x.strftime(\"%M:%S.%f\"))"
   ]
  },
  {
   "attachments": {},
   "cell_type": "markdown",
   "metadata": {},
   "source": [
    "We can assign the column value of Time to the variable x like this (below)\n",
    "\n",
    "Select the value when it appears instead of typing it yourself so you get the correct spacing!"
   ]
  },
  {
   "cell_type": "code",
   "execution_count": 20,
   "metadata": {},
   "outputs": [],
   "source": [
    "x1 = df_excel[\"TIME\"] # note normally there is an extra space in the header TIME! if you write \"TIME\" it will throw an error\n",
    "                      # you can avoid this by using the tab complete once you see time appear"
   ]
  },
  {
   "attachments": {},
   "cell_type": "markdown",
   "metadata": {},
   "source": [
    "We probably want to remove the data in the 2nd row (3) as the series of dashes --------- indicates that this is where the data starts and we don't what to have NaN (not a number) data in our datafram we could clean this up later but why import the issue to begin with\n",
    "\n",
    "To tell Pandas where the data frame should start and what to include we can use the **header**, and **skiprows** arguments in the example below I say that the header information is in the first (0) and thrid (2) lines, and that the forth line (3) should be skipped.  We should do this as currently column 0 and column 15 have different lengths"
   ]
  },
  {
   "cell_type": "code",
   "execution_count": 12,
   "metadata": {},
   "outputs": [
    {
     "data": {
      "text/html": [
       "<div>\n",
       "<style scoped>\n",
       "    .dataframe tbody tr th:only-of-type {\n",
       "        vertical-align: middle;\n",
       "    }\n",
       "\n",
       "    .dataframe tbody tr th {\n",
       "        vertical-align: top;\n",
       "    }\n",
       "\n",
       "    .dataframe thead tr th {\n",
       "        text-align: left;\n",
       "    }\n",
       "</style>\n",
       "<table border=\"1\" class=\"dataframe\">\n",
       "  <thead>\n",
       "    <tr>\n",
       "      <th></th>\n",
       "      <th>TIME</th>\n",
       "      <th>VO2</th>\n",
       "      <th>VO2/kg</th>\n",
       "      <th>METS</th>\n",
       "      <th>VCO2</th>\n",
       "      <th>VE</th>\n",
       "      <th>RER</th>\n",
       "      <th>RR</th>\n",
       "      <th>Vt</th>\n",
       "      <th>FEO2</th>\n",
       "      <th>FECO2</th>\n",
       "      <th>HR</th>\n",
       "      <th>VE/VO2</th>\n",
       "      <th>VE/CO2</th>\n",
       "      <th>PetCO2</th>\n",
       "      <th>Power</th>\n",
       "    </tr>\n",
       "    <tr>\n",
       "      <th></th>\n",
       "      <th>min</th>\n",
       "      <th>L/min</th>\n",
       "      <th>ml/kg/m</th>\n",
       "      <th>Unnamed: 3_level_1</th>\n",
       "      <th>L/min</th>\n",
       "      <th>L/min</th>\n",
       "      <th>Unnamed: 6_level_1</th>\n",
       "      <th>BPM</th>\n",
       "      <th>L</th>\n",
       "      <th>%</th>\n",
       "      <th>%</th>\n",
       "      <th>bpm</th>\n",
       "      <th>BT/ST</th>\n",
       "      <th>BT/ST</th>\n",
       "      <th>mmHg</th>\n",
       "      <th>Watts</th>\n",
       "    </tr>\n",
       "  </thead>\n",
       "  <tbody>\n",
       "    <tr>\n",
       "      <th>0</th>\n",
       "      <td>0.517167</td>\n",
       "      <td>0.247651</td>\n",
       "      <td>4.552413</td>\n",
       "      <td>1.300690</td>\n",
       "      <td>0.184220</td>\n",
       "      <td>19.603882</td>\n",
       "      <td>0.743868</td>\n",
       "      <td>17.402514</td>\n",
       "      <td>1.126497</td>\n",
       "      <td>19.247952</td>\n",
       "      <td>1.362280</td>\n",
       "      <td>82.0</td>\n",
       "      <td>79.159210</td>\n",
       "      <td>106.415611</td>\n",
       "      <td>10.536668</td>\n",
       "      <td>50</td>\n",
       "    </tr>\n",
       "    <tr>\n",
       "      <th>1</th>\n",
       "      <td>1.052167</td>\n",
       "      <td>0.687631</td>\n",
       "      <td>12.640276</td>\n",
       "      <td>3.611507</td>\n",
       "      <td>0.524605</td>\n",
       "      <td>19.488014</td>\n",
       "      <td>0.762917</td>\n",
       "      <td>22.429905</td>\n",
       "      <td>0.868841</td>\n",
       "      <td>16.212049</td>\n",
       "      <td>3.827807</td>\n",
       "      <td>84.0</td>\n",
       "      <td>28.340801</td>\n",
       "      <td>37.147957</td>\n",
       "      <td>25.491480</td>\n",
       "      <td>50</td>\n",
       "    </tr>\n",
       "    <tr>\n",
       "      <th>2</th>\n",
       "      <td>1.517833</td>\n",
       "      <td>0.900826</td>\n",
       "      <td>16.559309</td>\n",
       "      <td>4.731231</td>\n",
       "      <td>0.674840</td>\n",
       "      <td>23.455959</td>\n",
       "      <td>0.749134</td>\n",
       "      <td>19.327129</td>\n",
       "      <td>1.213629</td>\n",
       "      <td>15.810433</td>\n",
       "      <td>4.088318</td>\n",
       "      <td>87.0</td>\n",
       "      <td>26.038269</td>\n",
       "      <td>34.757805</td>\n",
       "      <td>27.316362</td>\n",
       "      <td>50</td>\n",
       "    </tr>\n",
       "    <tr>\n",
       "      <th>3</th>\n",
       "      <td>2.040500</td>\n",
       "      <td>0.907713</td>\n",
       "      <td>16.685894</td>\n",
       "      <td>4.767398</td>\n",
       "      <td>0.675092</td>\n",
       "      <td>23.951960</td>\n",
       "      <td>0.743728</td>\n",
       "      <td>21.045919</td>\n",
       "      <td>1.138081</td>\n",
       "      <td>15.884157</td>\n",
       "      <td>4.005978</td>\n",
       "      <td>99.0</td>\n",
       "      <td>26.387159</td>\n",
       "      <td>35.479572</td>\n",
       "      <td>26.742533</td>\n",
       "      <td>50</td>\n",
       "    </tr>\n",
       "    <tr>\n",
       "      <th>4</th>\n",
       "      <td>2.549000</td>\n",
       "      <td>1.018969</td>\n",
       "      <td>18.731045</td>\n",
       "      <td>5.351727</td>\n",
       "      <td>0.757926</td>\n",
       "      <td>25.988657</td>\n",
       "      <td>0.743817</td>\n",
       "      <td>19.665684</td>\n",
       "      <td>1.321523</td>\n",
       "      <td>15.709504</td>\n",
       "      <td>4.143663</td>\n",
       "      <td>98.5</td>\n",
       "      <td>25.504860</td>\n",
       "      <td>34.289173</td>\n",
       "      <td>27.543495</td>\n",
       "      <td>50</td>\n",
       "    </tr>\n",
       "  </tbody>\n",
       "</table>\n",
       "</div>"
      ],
      "text/plain": [
       "       TIME       VO2     VO2/kg               METS      VCO2         VE  \\\n",
       "        min     L/min    ml/kg/m Unnamed: 3_level_1     L/min      L/min   \n",
       "0  0.517167  0.247651   4.552413           1.300690  0.184220  19.603882   \n",
       "1  1.052167  0.687631  12.640276           3.611507  0.524605  19.488014   \n",
       "2  1.517833  0.900826  16.559309           4.731231  0.674840  23.455959   \n",
       "3  2.040500  0.907713  16.685894           4.767398  0.675092  23.951960   \n",
       "4  2.549000  1.018969  18.731045           5.351727  0.757926  25.988657   \n",
       "\n",
       "                 RER         RR        Vt       FEO2     FECO2    HR  \\\n",
       "  Unnamed: 6_level_1        BPM         L          %         %   bpm   \n",
       "0           0.743868  17.402514  1.126497  19.247952  1.362280  82.0   \n",
       "1           0.762917  22.429905  0.868841  16.212049  3.827807  84.0   \n",
       "2           0.749134  19.327129  1.213629  15.810433  4.088318  87.0   \n",
       "3           0.743728  21.045919  1.138081  15.884157  4.005978  99.0   \n",
       "4           0.743817  19.665684  1.321523  15.709504  4.143663  98.5   \n",
       "\n",
       "      VE/VO2      VE/CO2     PetCO2 Power  \n",
       "       BT/ST       BT/ST       mmHg Watts  \n",
       "0  79.159210  106.415611  10.536668    50  \n",
       "1  28.340801   37.147957  25.491480    50  \n",
       "2  26.038269   34.757805  27.316362    50  \n",
       "3  26.387159   35.479572  26.742533    50  \n",
       "4  25.504860   34.289173  27.543495    50  "
      ]
     },
     "execution_count": 12,
     "metadata": {},
     "output_type": "execute_result"
    }
   ],
   "source": [
    "# note we don't need to import anything becuse we did this in the previous cell\n",
    "# we also will just overwrite the df_excel variable we previously created\n",
    "\n",
    "df_excel = pd.read_excel('VO2_excel.xlsx', header=[0,2], skiprows=[3]) #this line works it will also put the units in the header data\n",
    "\n",
    "df_excel.head() # the head command just shows us the first 5 lines..\n",
    "\n",
    "#df_excel.tail() # this shows us the last 5 lines of the data frame"
   ]
  },
  {
   "attachments": {},
   "cell_type": "markdown",
   "metadata": {},
   "source": [
    "### Perform simple stats"
   ]
  },
  {
   "attachments": {},
   "cell_type": "markdown",
   "metadata": {},
   "source": [
    "The following will perform all the descriptives stats on a column of data"
   ]
  },
  {
   "cell_type": "code",
   "execution_count": 13,
   "metadata": {},
   "outputs": [
    {
     "data": {
      "text/html": [
       "<div>\n",
       "<style scoped>\n",
       "    .dataframe tbody tr th:only-of-type {\n",
       "        vertical-align: middle;\n",
       "    }\n",
       "\n",
       "    .dataframe tbody tr th {\n",
       "        vertical-align: top;\n",
       "    }\n",
       "\n",
       "    .dataframe thead th {\n",
       "        text-align: right;\n",
       "    }\n",
       "</style>\n",
       "<table border=\"1\" class=\"dataframe\">\n",
       "  <thead>\n",
       "    <tr style=\"text-align: right;\">\n",
       "      <th></th>\n",
       "      <th>bpm</th>\n",
       "    </tr>\n",
       "  </thead>\n",
       "  <tbody>\n",
       "    <tr>\n",
       "      <th>count</th>\n",
       "      <td>55.000000</td>\n",
       "    </tr>\n",
       "    <tr>\n",
       "      <th>mean</th>\n",
       "      <td>130.027273</td>\n",
       "    </tr>\n",
       "    <tr>\n",
       "      <th>std</th>\n",
       "      <td>25.183111</td>\n",
       "    </tr>\n",
       "    <tr>\n",
       "      <th>min</th>\n",
       "      <td>82.000000</td>\n",
       "    </tr>\n",
       "    <tr>\n",
       "      <th>25%</th>\n",
       "      <td>108.500000</td>\n",
       "    </tr>\n",
       "    <tr>\n",
       "      <th>50%</th>\n",
       "      <td>131.000000</td>\n",
       "    </tr>\n",
       "    <tr>\n",
       "      <th>75%</th>\n",
       "      <td>150.500000</td>\n",
       "    </tr>\n",
       "    <tr>\n",
       "      <th>max</th>\n",
       "      <td>169.000000</td>\n",
       "    </tr>\n",
       "  </tbody>\n",
       "</table>\n",
       "</div>"
      ],
      "text/plain": [
       "              bpm\n",
       "count   55.000000\n",
       "mean   130.027273\n",
       "std     25.183111\n",
       "min     82.000000\n",
       "25%    108.500000\n",
       "50%    131.000000\n",
       "75%    150.500000\n",
       "max    169.000000"
      ]
     },
     "execution_count": 13,
     "metadata": {},
     "output_type": "execute_result"
    }
   ],
   "source": [
    "df_excel['HR'].describe()"
   ]
  },
  {
   "attachments": {},
   "cell_type": "markdown",
   "metadata": {},
   "source": [
    "To analyse the column for only stat, substitue describe for the stat like std() standard deviation"
   ]
  },
  {
   "cell_type": "code",
   "execution_count": 5,
   "metadata": {},
   "outputs": [
    {
     "data": {
      "text/plain": [
       "bpm    25.183111\n",
       "dtype: float64"
      ]
     },
     "execution_count": 5,
     "metadata": {},
     "output_type": "execute_result"
    }
   ],
   "source": [
    "df_excel[\"HR\"].std()"
   ]
  },
  {
   "attachments": {},
   "cell_type": "markdown",
   "metadata": {},
   "source": [
    "Attempting to add value to x though does not work as the header is too complex now to read so you would assign the column number instead we can see that the x variable (column name) is a tuple and that is why we cannot assign it to a name"
   ]
  },
  {
   "cell_type": "code",
   "execution_count": 14,
   "metadata": {},
   "outputs": [
    {
     "name": "stdout",
     "output_type": "stream",
     "text": [
      "<class 'tuple'>\n",
      "This variable has 2 values\n",
      "('TIME', 'min')\n"
     ]
    }
   ],
   "source": [
    "x1 = df_excel.columns[0]  # you can change the column intiger here from 0-15 (time - watts) and see how thing change\n",
    "print(type(x1))\n",
    "\n",
    "print('This variable has', len(x1), 'values')\n",
    "print(x1)"
   ]
  },
  {
   "attachments": {},
   "cell_type": "markdown",
   "metadata": {},
   "source": [
    "We can peak at the data frame that we made from the excel data by using the info() command again and wee se that all the data columns are the same size now"
   ]
  },
  {
   "cell_type": "code",
   "execution_count": 15,
   "metadata": {},
   "outputs": [
    {
     "name": "stdout",
     "output_type": "stream",
     "text": [
      "<class 'pandas.core.frame.DataFrame'>\n",
      "RangeIndex: 55 entries, 0 to 54\n",
      "Data columns (total 16 columns):\n",
      " #   Column                      Non-Null Count  Dtype  \n",
      "---  ------                      --------------  -----  \n",
      " 0   (TIME, min)                 55 non-null     float64\n",
      " 1   (VO2, L/min)                55 non-null     float64\n",
      " 2   (VO2/kg, ml/kg/m)           55 non-null     float64\n",
      " 3   (METS, Unnamed: 3_level_1)  55 non-null     float64\n",
      " 4   (VCO2, L/min)               55 non-null     float64\n",
      " 5   (VE, L/min)                 55 non-null     float64\n",
      " 6   (RER, Unnamed: 6_level_1)   55 non-null     float64\n",
      " 7   (RR, BPM)                   55 non-null     float64\n",
      " 8   (Vt, L)                     55 non-null     float64\n",
      " 9   (FEO2, %)                   55 non-null     float64\n",
      " 10  (FECO2, %)                  55 non-null     float64\n",
      " 11  (HR, bpm)                   55 non-null     float64\n",
      " 12  (VE/VO2, BT/ST)             55 non-null     float64\n",
      " 13  (VE/CO2, BT/ST)             55 non-null     float64\n",
      " 14  (PetCO2, mmHg)              55 non-null     float64\n",
      " 15  (Power, Watts)              55 non-null     int64  \n",
      "dtypes: float64(15), int64(1)\n",
      "memory usage: 7.0 KB\n"
     ]
    }
   ],
   "source": [
    "df_excel.info()\n"
   ]
  },
  {
   "attachments": {},
   "cell_type": "markdown",
   "metadata": {},
   "source": [
    "**Note** When the header names are tuples, you can call them by the first reference but they won't show up with autocomplete so lets return to a simple header format\n",
    "\n",
    "You can remove these spaces & special characters but that is more than we have time for in this class..."
   ]
  },
  {
   "cell_type": "code",
   "execution_count": 16,
   "metadata": {},
   "outputs": [
    {
     "name": "stdout",
     "output_type": "stream",
     "text": [
      "<class 'pandas.core.frame.DataFrame'>\n",
      "RangeIndex: 55 entries, 0 to 54\n",
      "Data columns (total 16 columns):\n",
      " #   Column  Non-Null Count  Dtype  \n",
      "---  ------  --------------  -----  \n",
      " 0   TIME    55 non-null     float64\n",
      " 1   VO2     55 non-null     float64\n",
      " 2   VO2/kg  55 non-null     float64\n",
      " 3   METS    55 non-null     float64\n",
      " 4   VCO2    55 non-null     float64\n",
      " 5   VE      55 non-null     float64\n",
      " 6   RER     55 non-null     float64\n",
      " 7   RR      55 non-null     float64\n",
      " 8   Vt      55 non-null     float64\n",
      " 9   FEO2    55 non-null     float64\n",
      " 10  FECO2   55 non-null     float64\n",
      " 11  HR      55 non-null     float64\n",
      " 12  VE/VO2  55 non-null     float64\n",
      " 13  VE/CO2  55 non-null     float64\n",
      " 14  PetCO2  55 non-null     float64\n",
      " 15  Power   55 non-null     int64  \n",
      "dtypes: float64(15), int64(1)\n",
      "memory usage: 7.0 KB\n"
     ]
    }
   ],
   "source": [
    "df_excel = pd.read_excel('VO2_excel.xlsx', header=[0], skiprows=[1,2,3]) \n",
    "df_excel.info()"
   ]
  },
  {
   "attachments": {},
   "cell_type": "markdown",
   "metadata": {},
   "source": [
    "### First plot\n",
    "Now lets just plot the data to see what it looks like"
   ]
  },
  {
   "cell_type": "code",
   "execution_count": 65,
   "metadata": {},
   "outputs": [
    {
     "data": {
      "text/plain": [
       "<AxesSubplot:xlabel='TIME'>"
      ]
     },
     "execution_count": 65,
     "metadata": {},
     "output_type": "execute_result"
    },
    {
     "data": {
      "image/png": "[encoded data removed]",
      "text/plain": [
       "<Figure size 432x288 with 1 Axes>"
      ]
     },
     "metadata": {
      "needs_background": "light"
     },
     "output_type": "display_data"
    }
   ],
   "source": [
    "df_excel.plot('TIME', 'VO2')"
   ]
  },
  {
   "cell_type": "code",
   "execution_count": 64,
   "metadata": {},
   "outputs": [
    {
     "data": {
      "text/plain": [
       "<AxesSubplot:xlabel='TIME'>"
      ]
     },
     "execution_count": 64,
     "metadata": {},
     "output_type": "execute_result"
    },
    {
     "data": {
      "image/png": "[encoded data removed]",
      "text/plain": [
       "<Figure size 432x288 with 1 Axes>"
      ]
     },
     "metadata": {
      "needs_background": "light"
     },
     "output_type": "display_data"
    }
   ],
   "source": [
    "df_excel.plot(x=0, y=1) # we are calling the data column numbers here"
   ]
  },
  {
   "attachments": {},
   "cell_type": "markdown",
   "metadata": {},
   "source": [
    "You can add a second plot to this graph very easily by adding another plot...\n",
    "I am defining the variables by assigning them to the column header here, be sure to use the **tab** feature to add the column name or you will likely get the spacing in the name incorrect and it will throw and error. I have corrected the datafile so this doesn't occur but know about it just incase"
   ]
  },
  {
   "cell_type": "code",
   "execution_count": 51,
   "metadata": {},
   "outputs": [
    {
     "data": {
      "text/plain": [
       "<matplotlib.legend.Legend at 0x227faa53df0>"
      ]
     },
     "execution_count": 51,
     "metadata": {},
     "output_type": "execute_result"
    },
    {
     "data": {
      "image/png": "[encoded data removed]",
      "text/plain": [
       "<Figure size 432x288 with 1 Axes>"
      ]
     },
     "metadata": {
      "needs_background": "light"
     },
     "output_type": "display_data"
    }
   ],
   "source": [
    "#This also works\n",
    "x = df_excel['TIME']\n",
    "y = df_excel['VO2']\n",
    "y1 = df_excel['VCO2']\n",
    "plt.plot(x, y, c= 'r', label = '$\\dot VO_2$')\n",
    "plt.plot(x, y1, c='b', label='VE')\n",
    "plt.legend()"
   ]
  },
  {
   "attachments": {},
   "cell_type": "markdown",
   "metadata": {},
   "source": [
    "We can spruce this up a bit by putting a title on the graph and labelling our axes\n",
    ">  ***_Note_*** I added the correct subscript and dot over the $ \\dot V$ using LaTec script between \\$  $ characters"
   ]
  },
  {
   "cell_type": "code",
   "execution_count": 52,
   "metadata": {},
   "outputs": [
    {
     "data": {
      "text/plain": [
       "<AxesSubplot:title={'center':'Simple $\\\\dot VO_2$ time plot'}, xlabel='Time (min)', ylabel='$\\\\dot VO_2 (L/min)$'>"
      ]
     },
     "execution_count": 52,
     "metadata": {},
     "output_type": "execute_result"
    },
    {
     "data": {
      "image/png": "[encoded data removed]",
      "text/plain": [
       "<Figure size 432x288 with 1 Axes>"
      ]
     },
     "metadata": {
      "needs_background": "light"
     },
     "output_type": "display_data"
    }
   ],
   "source": [
    "df_excel.plot(x =0, y =1, xlabel='Time (min)', ylabel=(r'$\\dot VO_2 (L/min)$'), label=('$\\dot VO_2$ L/min'), \n",
    "     title='Simple $\\dot VO_2$ time plot', c='r')"
   ]
  },
  {
   "attachments": {},
   "cell_type": "markdown",
   "metadata": {},
   "source": [
    "### Bells and whistle plot\n",
    "I am also going to use the max function to find VO2 max and print it on the chart\n",
    "\n",
    "As a final touch I will save the output to the file named test.png\n",
    "\n",
    "I have included the hyperlink to the matplotlib library below where you can find all the hidden features to this gem\n",
    "\n",
    " https://matplotlib.org/stable/index.html"
   ]
  },
  {
   "cell_type": "code",
   "execution_count": 20,
   "metadata": {},
   "outputs": [
    {
     "data": {
      "image/png": "[encoded data removed]",
      "text/plain": [
       "<Figure size 432x288 with 1 Axes>"
      ]
     },
     "metadata": {
      "needs_background": "light"
     },
     "output_type": "display_data"
    }
   ],
   "source": [
    "x = df_excel['TIME']\n",
    "y = df_excel['VO2']\n",
    "\n",
    "# https://matplotlib.org/stable/index.html\n",
    "\n",
    "\n",
    "ymax = max(y)\n",
    "xmax = x[y.argmax()]\n",
    "fig, ax = plt.subplots()\n",
    "ax.annotate('$\\dot VO_2max$ =({}) L/min'.format(round(ymax, 2)), xy=(xmax, ymax), xytext=(xmax+.5, ymax+.5),\n",
    "            arrowprops=dict(facecolor='red', shrink=0.05),\n",
    "            )\n",
    "\n",
    "\n",
    "ax.plot(x, y,  label=('$\\dot VO_2$ L/min') )\n",
    "# ax.plot(x, y1,  label=('$\\dot VCO_2$ L/min') )\n",
    "ax.spines[['right', 'top']].set_visible(False)\n",
    "#note all these set features could be added in one line but reading it would be difficult\n",
    "ax.set(title = ('$\\dot VO_2$'), label=('$\\dot VO_2$ L/min'))  \n",
    "ax.set(xlabel=('time'))\n",
    "ax.set(ylabel=('L/min'))\n",
    "ax.legend()\n",
    "\n",
    "fig.savefig(\"Vo2-max.jpg\", dpi=300, bbox_inches = \"tight\")\n",
    "# Code below works without the fig, ax settings... line 10 but it is ugly...\n",
    "#df.plot(x =0, y =1, xlabel='Time (min)', ylabel=(r'$\\dot VO_2 (L/min)$'), label=('$\\dot VO_2$ L/min'), \n",
    "#     title='Simple $\\dot VO_2$ time plot')"
   ]
  },
  {
   "attachments": {},
   "cell_type": "markdown",
   "metadata": {},
   "source": [
    "### It should probably be pointed out here, you have done all the hard work...\n",
    "If you have multiple files with the same layout, changing the file you import will generate this graph easily...\n",
    "You could even put this in a \" for loop \" and do all files in a folder in minutes...\n",
    "just change it so the figure file is saved based on the filename currently used..."
   ]
  },
  {
   "attachments": {},
   "cell_type": "markdown",
   "metadata": {},
   "source": [
    "### Plot three graphs and share the same x axis\n",
    "you just need to modify your code sligthly..."
   ]
  },
  {
   "cell_type": "code",
   "execution_count": 32,
   "metadata": {},
   "outputs": [
    {
     "data": {
      "image/png": "[encoded data removed]",
      "text/plain": [
       "<Figure size 432x288 with 3 Axes>"
      ]
     },
     "metadata": {
      "needs_background": "light"
     },
     "output_type": "display_data"
    }
   ],
   "source": [
    "x = df_excel['TIME']\n",
    "y = df_excel['VO2']\n",
    "y1 = df_excel['VE'] #VE values\n",
    "y2 = df_excel['VCO2'] #vco2 data\n",
    "\n",
    "# https://matplotlib.org/stable/index.html\n",
    "\n",
    "# find vo2 max in y value\n",
    "ymax = max(y)\n",
    "# find position that max occurs in x column\n",
    "xmax = x[y.argmax()]\n",
    "\n",
    "\n",
    "# add arguments to subplot to plot 3 graphs in 1 box with a shared x axis\n",
    "fig, ax = plt.subplots(3, 1, sharex=True) \n",
    "# remove horizontal spaces between axes\n",
    "fig.subplots_adjust(hspace=0)\n",
    "\n",
    "#adds an indicator for VO2 max in top plot\n",
    "#Note that the ax difinition will relate to a sub plot in the square brackets\n",
    "ax[0].annotate('$\\dot VO_2max$ =({}) L/min'.format(round(ymax, 2)), xy=(xmax, ymax), xytext=(xmax+.5, ymax+ 1),\n",
    "            arrowprops=dict(facecolor='red', shrink= 0.05),\n",
    "            )\n",
    "\n",
    "\n",
    "ax[0].plot(x, y,  label=('$\\dot VO_2$'), c='r' )\n",
    "ax[0].spines[['right', 'top']].set_visible(False)\n",
    "#note all these set features could be added in one line but reading it would be difficult\n",
    "#ax.set(title = ('$\\dot VO_2$'), label=('$\\dot VO_2$ L/min'))  \n",
    "ax[0].set(ylabel=('L/min'))\n",
    "ax[0].legend()\n",
    "\n",
    "# Second plot of values down from the top\n",
    "ax[1].plot(x, y1, label=('VE'), c='b')\n",
    "ax[1].spines[['top', 'right']].set_visible(False)\n",
    "ax[1].set(ylabel=('breaths/min'))\n",
    "ax[1].legend()\n",
    "\n",
    "# Third plot of values down from the top\n",
    "ax[2].plot(x, y2, label=('$\\dot VCO_2$'), c = 'g')\n",
    "ax[2].spines[['top', 'right']].set_visible(False)\n",
    "ax[2].set(ylabel=('L/min'))\n",
    "ax[2].set(xlabel=('time (min)'))\n",
    "ax[2].legend()\n",
    "\n",
    "# small piece of code to save the file as a png, this can changed to jpg and pdf \n",
    "fig.savefig(\"test-3.png\", dpi=300, bbox_inches = \"tight\")"
   ]
  },
  {
   "cell_type": "code",
   "execution_count": null,
   "metadata": {},
   "outputs": [],
   "source": []
  },
  {
   "cell_type": "code",
   "execution_count": 45,
   "metadata": {},
   "outputs": [
    {
     "data": {
      "image/png": "[encoded data removed]",
      "text/plain": [
       "<Figure size 432x288 with 3 Axes>"
      ]
     },
     "metadata": {
      "needs_background": "light"
     },
     "output_type": "display_data"
    }
   ],
   "source": [
    "x = df_excel['VO2']\n",
    "y = df_excel['VE'] # Ventilation rate\n",
    "y1 = df_excel['FEO2'] #  Expired O2 values\n",
    "y2 = df_excel['FECO2'] # Expired CO2 data\n",
    "\n",
    "# https://matplotlib.org/stable/index.html\n",
    "\n",
    "# find vo2 max in y value\n",
    "#ymax = max(y)\n",
    "# find position that max occurs in x column\n",
    "#xmax = x[y.argmax()]\n",
    "\n",
    "\n",
    "# add arguments to subplot to plot 3 graphs in 1 box with a shared x axis\n",
    "fig, ax = plt.subplots(3, 1, sharex=True) \n",
    "# remove horizontal spaces between axes\n",
    "fig.subplots_adjust(hspace=0)\n",
    "\n",
    "#adds an indicator for VO2 max in top plot\n",
    "#Note that the ax difinition will relate to a sub plot in the square brackets\n",
    "#ax[0].annotate('$\\dot VE$ =({}) BPM'.format(round(ymax, 2)), xy=(xmax, ymax), xytext=(xmax+.5, ymax+ 1),\n",
    "#           arrowprops=dict(facecolor='red', shrink= 0.05),\n",
    "#            )\n",
    "\n",
    "\n",
    "ax[0].plot(x, y,  label=('$FEO_2 %$'), linestyle=\"\", marker=\"o\", c='r' )\n",
    "ax[0].spines[['right', 'top']].set_visible(False)\n",
    "#note all these set features could be added in one line but reading it would be difficult\n",
    "#ax.set(title = ('$\\dot VO_2$'), label=('$\\dot VO_2$ L/min'))  \n",
    "ax[0].set(ylabel=('BPM'))\n",
    "ax[0].legend()\n",
    "\n",
    "# Second plot of values down from the top\n",
    "ax[1].plot(x, y1, label=('$FECO_2$'),linestyle=\"\", marker=\"o\", c='b')\n",
    "ax[1].spines[['top', 'right']].set_visible(False)\n",
    "ax[1].set(ylabel=('%'))\n",
    "ax[1].legend()\n",
    "ax[1].set_ylim(15.3,17.8)\n",
    "\n",
    "# Third plot of values down from the top\n",
    "ax[2].plot(x, y2, label=('$\\dot VCO_2$'),linestyle=\"\", marker=\"o\", c = 'g')\n",
    "ax[2].spines[['top', 'right']].set_visible(False)\n",
    "ax[2].set(ylabel=('%'))\n",
    "ax[2].set(xlabel=('$\\dot VO_2$ (L/min)'))\n",
    "ax[2].legend()\n",
    "ax[2].set_ylim(3.7,4.8)\n",
    "\n",
    "plt.xlim((.5,3))\n",
    "# small piece of code to save the file as a png, this can changed to jpg and pdf \n",
    "fig.savefig(\"test-3.png\", dpi=300, bbox_inches = \"tight\")\n"
   ]
  }
 ],
 "metadata": {
  "kernelspec": {
   "display_name": "base",
   "language": "python",
   "name": "python3"
  },
  "language_info": {
   "codemirror_mode": {
    "name": "ipython",
    "version": 3
   },
   "file_extension": ".py",
   "mimetype": "text/x-python",
   "name": "python",
   "nbconvert_exporter": "python",
   "pygments_lexer": "ipython3",
   "version": "3.9.12"
  },
  "vscode": {
   "interpreter": {
    "hash": "ad2bdc8ecc057115af97d19610ffacc2b4e99fae6737bb82f5d7fb13d2f2c186"
   }
  }
 },
 "nbformat": 4,
 "nbformat_minor": 4
}
