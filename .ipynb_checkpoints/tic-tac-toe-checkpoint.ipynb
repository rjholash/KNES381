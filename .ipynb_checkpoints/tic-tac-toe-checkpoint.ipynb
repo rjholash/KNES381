{
 "cells": [
  {
   "cell_type": "code",
   "execution_count": null,
   "metadata": {},
   "outputs": [],
   "source": []
  },
  {
   "cell_type": "code",
   "execution_count": 3,
   "metadata": {},
   "outputs": [
    {
     "name": "stdout",
     "output_type": "stream",
     "text": [
      "_ _ _\n",
      "_ _ _\n",
      "_ _ _\n"
     ]
    },
    {
     "ename": "ValueError",
     "evalue": "invalid literal for int() with base 10: ''",
     "output_type": "error",
     "traceback": [
      "\u001b[1;31m---------------------------------------------------------------------------\u001b[0m",
      "\u001b[1;31mValueError\u001b[0m                                Traceback (most recent call last)",
      "\u001b[1;32mc:\\Users\\John Holash\\Documents\\Knes381\\tic-tac-toe.ipynb Cell 2\u001b[0m in \u001b[0;36m<cell line: 80>\u001b[1;34m()\u001b[0m\n\u001b[0;32m     <a href='vscode-notebook-cell:/c%3A/Users/John%20Holash/Documents/Knes381/tic-tac-toe.ipynb#W1sZmlsZQ%3D%3D?line=76'>77</a>\u001b[0m     \u001b[39mprint\u001b[39m(\u001b[39m\"\u001b[39m\u001b[39mThe game is a draw.\u001b[39m\u001b[39m\"\u001b[39m)\n\u001b[0;32m     <a href='vscode-notebook-cell:/c%3A/Users/John%20Holash/Documents/Knes381/tic-tac-toe.ipynb#W1sZmlsZQ%3D%3D?line=78'>79</a>\u001b[0m \u001b[39m# play the game\u001b[39;00m\n\u001b[1;32m---> <a href='vscode-notebook-cell:/c%3A/Users/John%20Holash/Documents/Knes381/tic-tac-toe.ipynb#W1sZmlsZQ%3D%3D?line=79'>80</a>\u001b[0m play_game()\n",
      "\u001b[1;32mc:\\Users\\John Holash\\Documents\\Knes381\\tic-tac-toe.ipynb Cell 2\u001b[0m in \u001b[0;36mplay_game\u001b[1;34m()\u001b[0m\n\u001b[0;32m     <a href='vscode-notebook-cell:/c%3A/Users/John%20Holash/Documents/Knes381/tic-tac-toe.ipynb#W1sZmlsZQ%3D%3D?line=47'>48</a>\u001b[0m   \u001b[39mprint\u001b[39m(\u001b[39m\"\u001b[39m\u001b[39m \u001b[39m\u001b[39m\"\u001b[39m\u001b[39m.\u001b[39mjoin(row))\n\u001b[0;32m     <a href='vscode-notebook-cell:/c%3A/Users/John%20Holash/Documents/Knes381/tic-tac-toe.ipynb#W1sZmlsZQ%3D%3D?line=49'>50</a>\u001b[0m \u001b[39m# get the player's move\u001b[39;00m\n\u001b[1;32m---> <a href='vscode-notebook-cell:/c%3A/Users/John%20Holash/Documents/Knes381/tic-tac-toe.ipynb#W1sZmlsZQ%3D%3D?line=50'>51</a>\u001b[0m row \u001b[39m=\u001b[39m \u001b[39mint\u001b[39;49m(\u001b[39minput\u001b[39;49m(\u001b[39m\"\u001b[39;49m\u001b[39mEnter row player \u001b[39;49m\u001b[39m{player}\u001b[39;49;00m\u001b[39m (0-2): \u001b[39;49m\u001b[39m\"\u001b[39;49m))\n\u001b[0;32m     <a href='vscode-notebook-cell:/c%3A/Users/John%20Holash/Documents/Knes381/tic-tac-toe.ipynb#W1sZmlsZQ%3D%3D?line=51'>52</a>\u001b[0m col \u001b[39m=\u001b[39m \u001b[39mint\u001b[39m(\u001b[39minput\u001b[39m(\u001b[39m\"\u001b[39m\u001b[39mEnter column (0-2): \u001b[39m\u001b[39m\"\u001b[39m))\n\u001b[0;32m     <a href='vscode-notebook-cell:/c%3A/Users/John%20Holash/Documents/Knes381/tic-tac-toe.ipynb#W1sZmlsZQ%3D%3D?line=53'>54</a>\u001b[0m \u001b[39m# make the move\u001b[39;00m\n",
      "\u001b[1;31mValueError\u001b[0m: invalid literal for int() with base 10: ''"
     ]
    }
   ],
   "source": [
    "# define the board\n",
    "board = [[\"_\" for i in range(3)] for j in range(3)]\n",
    "\n",
    "# define the player's move\n",
    "def make_move(board, player, row, col):\n",
    "  board[row][col] = player\n",
    "\n",
    "# define the function to check for a winner\n",
    "def check_winner(board):\n",
    "  # check rows\n",
    "  for row in range(3):\n",
    "    if board[row][0] == board[row][1] and board[row][1] == board[row][2] and board[row][0] != \"_\":\n",
    "      return board[row][0]\n",
    "\n",
    "  # check columns\n",
    "  for col in range(3):\n",
    "    if board[0][col] == board[1][col] and board[1][col] == board[2][col] and board[0][col] != \"_\":\n",
    "      return board[0][col]\n",
    "\n",
    "  # check diagonals\n",
    "  if board[0][0] == board[1][1] and board[1][1] == board[2][2] and board[0][0] != \"_\":\n",
    "    return board[0][0]\n",
    "  if board[2][0] == board[1][1] and board[1][1] == board[0][2] and board[2][0] != \"_\":\n",
    "    return board[2][0]\n",
    "\n",
    "  # if there is no winner, return None\n",
    "  return None\n",
    "\n",
    "# define the function to check if the game is a draw\n",
    "def check_draw(board):\n",
    "  for row in range(3):\n",
    "    for col in range(3):\n",
    "      if board[row][col] == \"_\":\n",
    "        return False\n",
    "  return True\n",
    "\n",
    "# define the function to play the game\n",
    "def play_game():\n",
    "  # initialize the game\n",
    "  player = \"X\"\n",
    "  winner = None\n",
    "  draw = False\n",
    "\n",
    "  # loop until the game is over\n",
    "  while not winner and not draw:\n",
    "    # print the current board\n",
    "    for row in board:\n",
    "      print(\" \".join(row))\n",
    "\n",
    "    # get the player's move\n",
    "    row = int(input(\"Enter row (0-2): \"))\n",
    "    col = int(input(\"Enter column (0-2): \"))\n",
    "\n",
    "    # make the move\n",
    "    make_move(board, player, row, col)\n",
    "\n",
    "    # check for a winner\n",
    "    winner = check_winner(board)\n",
    "\n",
    "    # check for a draw\n",
    "    draw = check_draw(board)\n",
    "\n",
    "    # switch players\n",
    "    if player == \"X\":\n",
    "      player = \"O\"\n",
    "    else:\n",
    "      player = \"X\"\n",
    "\n",
    "  # print the final board\n",
    "  for row in board:\n",
    "    print(\" \".join(row))\n",
    "\n",
    "  # print the result of the game\n",
    "  if winner:\n",
    "    print(f\"Player {winner} wins!\")\n",
    "  else:\n",
    "    print(\"The game is a draw.\")\n",
    "\n",
    "# play the game\n",
    "play_game()\n"
   ]
  }
 ],
 "metadata": {
  "kernelspec": {
   "display_name": "Python 3",
   "language": "python",
   "name": "python3"
  },
  "language_info": {
   "codemirror_mode": {
    "name": "ipython",
    "version": 3
   },
   "file_extension": ".py",
   "mimetype": "text/x-python",
   "name": "python",
   "nbconvert_exporter": "python",
   "pygments_lexer": "ipython3",
   "version": "3.10.10"
  },
  "orig_nbformat": 4,
  "vscode": {
   "interpreter": {
    "hash": "38c78f9eaff3c0fbe2b58b5dd692acf97cb56d793b830c06375be8d3f4d5eedc"
   }
  }
 },
 "nbformat": 4,
 "nbformat_minor": 2
}
